{
 "metadata": {
  "name": "",
  "signature": "sha256:1408a63017c52e5662d54da97eb2af687cda29d78d7dfc872ee579a63af38797"
 },
 "nbformat": 3,
 "nbformat_minor": 0,
 "worksheets": [
  {
   "cells": [
    {
     "cell_type": "code",
     "collapsed": false,
     "input": [
      "import os\n",
      "import numpy as np\n",
      "import pandas as pd\n",
      "import matplotlib.pyplot as plt\n",
      "from pandas import Series, DataFrame\n",
      "import sklearn\n",
      "import nltk\n",
      "import string\n",
      "from nltk import word_tokenize\n",
      "from nltk.corpus import stopwords\n",
      "from nltk.stem.porter import PorterStemmer\n",
      "from collections import Counter\n",
      "\n",
      "nltk.download() # download the english stopwords corpus and the punkt package and maybe the porter stemmer if not present\n",
      "\n",
      "\n",
      "%matplotlib inline\n",
      "pd.options.display.mpl_style = 'default'\n",
      "\n",
      "pd.set_option('display.max_columns', 36)\n",
      "print pd.__version__\n",
      "\n",
      "%load_ext rpy2.ipython"
     ],
     "language": "python",
     "metadata": {},
     "outputs": [
      {
       "output_type": "stream",
       "stream": "stdout",
       "text": [
        "showing info http://nltk.github.com/nltk_data/\n",
        "0.14.1"
       ]
      },
      {
       "output_type": "stream",
       "stream": "stdout",
       "text": [
        "\n"
       ]
      }
     ],
     "prompt_number": 1
    },
    {
     "cell_type": "code",
     "collapsed": false,
     "input": [
      "%%bash\n",
      "# thank you Kevin Bouge http://sites.google.com/site/kevinbouge/stopwords-lists\n",
      "wget --quiet --output-document=more_stopwords.txt http://sites.google.com/site/kevinbouge/stopwords-lists/stopwords_en.txt?attredirects=0&d=1\n",
      "\n",
      "# http://www2.cs.uic.edu/~liub/\n",
      "# Hu, Minqing, and Bing Liu. \"Mining and summarizing customer reviews.\" Proceedings of the tenth ACM SIGKDD international conference on Knowledge discovery and data mining. ACM, 2004.\n",
      "# Liu, Bing, Minqing Hu, and Junsheng Cheng. \"Opinion observer: analyzing and comparing opinions on the web.\" Proceedings of the 14th international conference on World Wide Web. ACM, 2005.\n",
      "wget --quiet --output-document=opinions.rar http://www.cs.uic.edu/~liub/FBS/opinion-lexicon-English.rar\n",
      "unrar e -o+ --silent opinions.rar > /dev/null\n",
      "sed -i '/^;/d' positive-words.txt\n",
      "sed -i '/^;/d' negative-words.txt"
     ],
     "language": "python",
     "metadata": {},
     "outputs": [],
     "prompt_number": 2
    },
    {
     "cell_type": "code",
     "collapsed": false,
     "input": [
      "import plotly.plotly as py\n",
      "import plotly.tools as tls\n",
      "from plotly.graph_objs import *\n",
      "\n",
      "py.sign_in('heqiu', 'ky83ugw1y8')"
     ],
     "language": "python",
     "metadata": {},
     "outputs": [],
     "prompt_number": 3
    },
    {
     "cell_type": "code",
     "collapsed": false,
     "input": [
      "MY_YELP_JSON_CLEAN_DATA_DIR = \"/home/henry/Dropbox/Classes/Cogs\\ 118B/yelp\\ dataset\\ challenge/Cleaned_Data_Directory\"\n",
      "MY_YELP_OUTPUT_DIR = os.path.join(\"/home/henry/Dropbox/Classes/Cogs\\ 118B/yelp\\ dataset\\ challenge/\", \"Output_Directory\")\n",
      "print \"output directory with backslashes\", MY_YELP_OUTPUT_DIR\n",
      "noSlashOutputDir = \"/home/henry/Dropbox/Classes/Cogs 118B/yelp dataset challenge/Output_Directory\"\n",
      "print \"output directory without backslashes\", noSlashOutputDir\n",
      "!echo MY_YELP_JSON_CLEAN_DATA_DIR : $MY_YELP_JSON_CLEAN_DATA_DIR\n",
      "!ls -sh $MY_YELP_JSON_CLEAN_DATA_DIR"
     ],
     "language": "python",
     "metadata": {},
     "outputs": [
      {
       "output_type": "stream",
       "stream": "stdout",
       "text": [
        "output directory with backslashes /home/henry/Dropbox/Classes/Cogs\\ 118B/yelp\\ dataset\\ challenge/Output_Directory\n",
        "output directory without backslashes /home/henry/Dropbox/Classes/Cogs 118B/yelp dataset challenge/Output_Directory\n",
        "MY_YELP_JSON_CLEAN_DATA_DIR : /home/henry/Dropbox/Classes/Cogs 118B/yelp dataset challenge/Cleaned_Data_Directory\r\n"
       ]
      },
      {
       "output_type": "stream",
       "stream": "stdout",
       "text": [
        "total 108M\r\n",
        "108M TURBO_p1.csv\r\n"
       ]
      }
     ],
     "prompt_number": 4
    },
    {
     "cell_type": "code",
     "collapsed": false,
     "input": [
      "turbo_csv_filename = os.path.join(\"/home/henry/Dropbox/Classes/Cogs 118B/yelp dataset challenge/\", 'TURBO_p1.csv')\n",
      "TURBO_DF = pd.read_csv(turbo_csv_filename)"
     ],
     "language": "python",
     "metadata": {},
     "outputs": [],
     "prompt_number": 5
    },
    {
     "cell_type": "markdown",
     "metadata": {},
     "source": [
      "Lets see an example of the data frame."
     ]
    },
    {
     "cell_type": "code",
     "collapsed": false,
     "input": [
      "TURBO_DF.head(3)"
     ],
     "language": "python",
     "metadata": {},
     "outputs": [
      {
       "html": [
        "<div style=\"max-height:1000px;max-width:1500px;overflow:auto;\">\n",
        "<table border=\"1\" class=\"dataframe\">\n",
        "  <thead>\n",
        "    <tr style=\"text-align: right;\">\n",
        "      <th></th>\n",
        "      <th>attributes</th>\n",
        "      <th>business_id</th>\n",
        "      <th>categories</th>\n",
        "      <th>city</th>\n",
        "      <th>full_address</th>\n",
        "      <th>hours</th>\n",
        "      <th>latitude</th>\n",
        "      <th>longitude</th>\n",
        "      <th>business_name</th>\n",
        "      <th>neighborhoods</th>\n",
        "      <th>open</th>\n",
        "      <th>business_review_count</th>\n",
        "      <th>business_stars</th>\n",
        "      <th>state</th>\n",
        "      <th>type_x</th>\n",
        "      <th>review_date</th>\n",
        "      <th>review_id</th>\n",
        "      <th>review_stars</th>\n",
        "      <th>review_text</th>\n",
        "      <th>type_y</th>\n",
        "      <th>user_id</th>\n",
        "      <th>review_votes</th>\n",
        "      <th>average_stars</th>\n",
        "      <th>compliments</th>\n",
        "      <th>elite</th>\n",
        "      <th>fans</th>\n",
        "      <th>friends</th>\n",
        "      <th>user_name</th>\n",
        "      <th>user_review_count</th>\n",
        "      <th>type_x.1</th>\n",
        "      <th>user_votes</th>\n",
        "      <th>yelping_since</th>\n",
        "      <th>tip_date</th>\n",
        "      <th>likes</th>\n",
        "      <th>tip_text</th>\n",
        "      <th>type_y.1</th>\n",
        "    </tr>\n",
        "  </thead>\n",
        "  <tbody>\n",
        "    <tr>\n",
        "      <th>0</th>\n",
        "      <td> {u'Alcohol': u'full_bar', u'Noise Level': u'av...</td>\n",
        "      <td> mxrXVZWc6PWk81gvOVNOUw</td>\n",
        "      <td>     [American (Traditional), Restaurants]</td>\n",
        "      <td> Scottsdale</td>\n",
        "      <td> 4800 N Scottsdale Rd\\nSte 1700\\nScottsdale, AZ...</td>\n",
        "      <td> {u'Monday': {u'close': u'23:00', u'open': u'16...</td>\n",
        "      <td> 33.508695</td>\n",
        "      <td>-111.927080</td>\n",
        "      <td>              Roaring Fork</td>\n",
        "      <td> []</td>\n",
        "      <td> True</td>\n",
        "      <td> 463</td>\n",
        "      <td> 4.0</td>\n",
        "      <td> AZ</td>\n",
        "      <td> business</td>\n",
        "      <td> 2014-01-09 00:00:00</td>\n",
        "      <td> 6fCJWrPiNmzOeqHccc7BUw</td>\n",
        "      <td> 5</td>\n",
        "      <td> Awesome decor, great service, hidden gem in Sc...</td>\n",
        "      <td> review</td>\n",
        "      <td> jE5xVugujSaskAoh2DRx3Q</td>\n",
        "      <td> {u'funny': 0, u'useful': 0, u'cool': 0}</td>\n",
        "      <td> 3.65</td>\n",
        "      <td> {u'note': 1, u'funny': 1, u'writer': 2, u'plai...</td>\n",
        "      <td> []</td>\n",
        "      <td> 0</td>\n",
        "      <td> [5Fd93L51CcW9oiJxPPfgEQ, eKTZv1upkNLR5X2HSNd1f...</td>\n",
        "      <td>     S</td>\n",
        "      <td> 225</td>\n",
        "      <td> user</td>\n",
        "      <td> {u'funny': 36, u'useful': 135, u'cool': 29}</td>\n",
        "      <td> 2011-02</td>\n",
        "      <td> 2014-01-10 00:00:00</td>\n",
        "      <td> 0</td>\n",
        "      <td>        One of the best restaurants in Scottsdale.</td>\n",
        "      <td> tip</td>\n",
        "    </tr>\n",
        "    <tr>\n",
        "      <th>1</th>\n",
        "      <td> {u'Alcohol': u'beer_and_wine', u'Noise Level':...</td>\n",
        "      <td> z3yFuLVrmH-3RJruPEMYKw</td>\n",
        "      <td> [Delis, Restaurants, Sandwiches, Italian]</td>\n",
        "      <td> Scottsdale</td>\n",
        "      <td> 2334 N Scottsdale Rd\\nSte A133\\nScottsdale, AZ...</td>\n",
        "      <td> {u'Monday': {u'close': u'21:00', u'open': u'10...</td>\n",
        "      <td> 33.474068</td>\n",
        "      <td>-111.927033</td>\n",
        "      <td> Defalco's Italian Grocery</td>\n",
        "      <td> []</td>\n",
        "      <td> True</td>\n",
        "      <td> 469</td>\n",
        "      <td> 4.5</td>\n",
        "      <td> AZ</td>\n",
        "      <td> business</td>\n",
        "      <td> 2010-08-08 00:00:00</td>\n",
        "      <td> 30yHYeC5uCeMB9lHU81EBQ</td>\n",
        "      <td> 5</td>\n",
        "      <td> I have been going to DeFalco's since 1984 when...</td>\n",
        "      <td> review</td>\n",
        "      <td> QnhQ8G51XbUpVEyWY2Km-A</td>\n",
        "      <td> {u'funny': 0, u'useful': 1, u'cool': 1}</td>\n",
        "      <td> 4.25</td>\n",
        "      <td>                                                {}</td>\n",
        "      <td> []</td>\n",
        "      <td> 0</td>\n",
        "      <td>                                                []</td>\n",
        "      <td> David</td>\n",
        "      <td>  11</td>\n",
        "      <td> user</td>\n",
        "      <td>    {u'funny': 0, u'useful': 18, u'cool': 4}</td>\n",
        "      <td> 2009-08</td>\n",
        "      <td> 2011-09-05 00:00:00</td>\n",
        "      <td> 0</td>\n",
        "      <td> DeFalco's has a new pizza crust recipe, and no...</td>\n",
        "      <td> tip</td>\n",
        "    </tr>\n",
        "    <tr>\n",
        "      <th>2</th>\n",
        "      <td> {u'Alcohol': u'beer_and_wine', u'Noise Level':...</td>\n",
        "      <td> z3yFuLVrmH-3RJruPEMYKw</td>\n",
        "      <td> [Delis, Restaurants, Sandwiches, Italian]</td>\n",
        "      <td> Scottsdale</td>\n",
        "      <td> 2334 N Scottsdale Rd\\nSte A133\\nScottsdale, AZ...</td>\n",
        "      <td> {u'Monday': {u'close': u'21:00', u'open': u'10...</td>\n",
        "      <td> 33.474068</td>\n",
        "      <td>-111.927033</td>\n",
        "      <td> Defalco's Italian Grocery</td>\n",
        "      <td> []</td>\n",
        "      <td> True</td>\n",
        "      <td> 469</td>\n",
        "      <td> 4.5</td>\n",
        "      <td> AZ</td>\n",
        "      <td> business</td>\n",
        "      <td> 2010-08-08 00:00:00</td>\n",
        "      <td> 30yHYeC5uCeMB9lHU81EBQ</td>\n",
        "      <td> 5</td>\n",
        "      <td> I have been going to DeFalco's since 1984 when...</td>\n",
        "      <td> review</td>\n",
        "      <td> QnhQ8G51XbUpVEyWY2Km-A</td>\n",
        "      <td> {u'funny': 0, u'useful': 1, u'cool': 1}</td>\n",
        "      <td> 4.25</td>\n",
        "      <td>                                                {}</td>\n",
        "      <td> []</td>\n",
        "      <td> 0</td>\n",
        "      <td>                                                []</td>\n",
        "      <td> David</td>\n",
        "      <td>  11</td>\n",
        "      <td> user</td>\n",
        "      <td>    {u'funny': 0, u'useful': 18, u'cool': 4}</td>\n",
        "      <td> 2009-08</td>\n",
        "      <td> 2011-10-08 00:00:00</td>\n",
        "      <td> 0</td>\n",
        "      <td> Try the cappacola, hard salami, provolone sand...</td>\n",
        "      <td> tip</td>\n",
        "    </tr>\n",
        "  </tbody>\n",
        "</table>\n",
        "</div>"
       ],
       "metadata": {},
       "output_type": "pyout",
       "prompt_number": 6,
       "text": [
        "                                          attributes             business_id  \\\n",
        "0  {u'Alcohol': u'full_bar', u'Noise Level': u'av...  mxrXVZWc6PWk81gvOVNOUw   \n",
        "1  {u'Alcohol': u'beer_and_wine', u'Noise Level':...  z3yFuLVrmH-3RJruPEMYKw   \n",
        "2  {u'Alcohol': u'beer_and_wine', u'Noise Level':...  z3yFuLVrmH-3RJruPEMYKw   \n",
        "\n",
        "                                  categories        city  \\\n",
        "0      [American (Traditional), Restaurants]  Scottsdale   \n",
        "1  [Delis, Restaurants, Sandwiches, Italian]  Scottsdale   \n",
        "2  [Delis, Restaurants, Sandwiches, Italian]  Scottsdale   \n",
        "\n",
        "                                        full_address  \\\n",
        "0  4800 N Scottsdale Rd\\nSte 1700\\nScottsdale, AZ...   \n",
        "1  2334 N Scottsdale Rd\\nSte A133\\nScottsdale, AZ...   \n",
        "2  2334 N Scottsdale Rd\\nSte A133\\nScottsdale, AZ...   \n",
        "\n",
        "                                               hours   latitude   longitude  \\\n",
        "0  {u'Monday': {u'close': u'23:00', u'open': u'16...  33.508695 -111.927080   \n",
        "1  {u'Monday': {u'close': u'21:00', u'open': u'10...  33.474068 -111.927033   \n",
        "2  {u'Monday': {u'close': u'21:00', u'open': u'10...  33.474068 -111.927033   \n",
        "\n",
        "               business_name neighborhoods  open  business_review_count  \\\n",
        "0               Roaring Fork            []  True                    463   \n",
        "1  Defalco's Italian Grocery            []  True                    469   \n",
        "2  Defalco's Italian Grocery            []  True                    469   \n",
        "\n",
        "   business_stars state    type_x          review_date  \\\n",
        "0             4.0    AZ  business  2014-01-09 00:00:00   \n",
        "1             4.5    AZ  business  2010-08-08 00:00:00   \n",
        "2             4.5    AZ  business  2010-08-08 00:00:00   \n",
        "\n",
        "                review_id  review_stars  \\\n",
        "0  6fCJWrPiNmzOeqHccc7BUw             5   \n",
        "1  30yHYeC5uCeMB9lHU81EBQ             5   \n",
        "2  30yHYeC5uCeMB9lHU81EBQ             5   \n",
        "\n",
        "                                         review_text  type_y  \\\n",
        "0  Awesome decor, great service, hidden gem in Sc...  review   \n",
        "1  I have been going to DeFalco's since 1984 when...  review   \n",
        "2  I have been going to DeFalco's since 1984 when...  review   \n",
        "\n",
        "                  user_id                             review_votes  \\\n",
        "0  jE5xVugujSaskAoh2DRx3Q  {u'funny': 0, u'useful': 0, u'cool': 0}   \n",
        "1  QnhQ8G51XbUpVEyWY2Km-A  {u'funny': 0, u'useful': 1, u'cool': 1}   \n",
        "2  QnhQ8G51XbUpVEyWY2Km-A  {u'funny': 0, u'useful': 1, u'cool': 1}   \n",
        "\n",
        "   average_stars                                        compliments elite  \\\n",
        "0           3.65  {u'note': 1, u'funny': 1, u'writer': 2, u'plai...    []   \n",
        "1           4.25                                                 {}    []   \n",
        "2           4.25                                                 {}    []   \n",
        "\n",
        "   fans                                            friends user_name  \\\n",
        "0     0  [5Fd93L51CcW9oiJxPPfgEQ, eKTZv1upkNLR5X2HSNd1f...         S   \n",
        "1     0                                                 []     David   \n",
        "2     0                                                 []     David   \n",
        "\n",
        "   user_review_count type_x.1                                   user_votes  \\\n",
        "0                225     user  {u'funny': 36, u'useful': 135, u'cool': 29}   \n",
        "1                 11     user     {u'funny': 0, u'useful': 18, u'cool': 4}   \n",
        "2                 11     user     {u'funny': 0, u'useful': 18, u'cool': 4}   \n",
        "\n",
        "  yelping_since             tip_date  likes  \\\n",
        "0       2011-02  2014-01-10 00:00:00      0   \n",
        "1       2009-08  2011-09-05 00:00:00      0   \n",
        "2       2009-08  2011-10-08 00:00:00      0   \n",
        "\n",
        "                                            tip_text type_y.1  \n",
        "0         One of the best restaurants in Scottsdale.      tip  \n",
        "1  DeFalco's has a new pizza crust recipe, and no...      tip  \n",
        "2  Try the cappacola, hard salami, provolone sand...      tip  "
       ]
      }
     ],
     "prompt_number": 6
    },
    {
     "cell_type": "code",
     "collapsed": false,
     "input": [
      "print TURBO_DF.columns.values"
     ],
     "language": "python",
     "metadata": {},
     "outputs": [
      {
       "output_type": "stream",
       "stream": "stdout",
       "text": [
        "['attributes' 'business_id' 'categories' 'city' 'full_address' 'hours'\n",
        " 'latitude' 'longitude' 'business_name' 'neighborhoods' 'open'\n",
        " 'business_review_count' 'business_stars' 'state' 'type_x' 'review_date'\n",
        " 'review_id' 'review_stars' 'review_text' 'type_y' 'user_id' 'review_votes'\n",
        " 'average_stars' 'compliments' 'elite' 'fans' 'friends' 'user_name'\n",
        " 'user_review_count' 'type_x.1' 'user_votes' 'yelping_since' 'tip_date'\n",
        " 'likes' 'tip_text' 'type_y.1']\n"
       ]
      }
     ],
     "prompt_number": 7
    },
    {
     "cell_type": "code",
     "collapsed": false,
     "input": [
      "type_columns_indices = np.nonzero(map(lambda col_name : col_name.startswith('type'), TURBO_DF.columns))\n",
      "TURBO_DF.drop(TURBO_DF.columns[type_columns_indices], axis=1, inplace=True)\n",
      "TURBO_DF.head(3)"
     ],
     "language": "python",
     "metadata": {},
     "outputs": [
      {
       "html": [
        "<div style=\"max-height:1000px;max-width:1500px;overflow:auto;\">\n",
        "<table border=\"1\" class=\"dataframe\">\n",
        "  <thead>\n",
        "    <tr style=\"text-align: right;\">\n",
        "      <th></th>\n",
        "      <th>attributes</th>\n",
        "      <th>business_id</th>\n",
        "      <th>categories</th>\n",
        "      <th>city</th>\n",
        "      <th>full_address</th>\n",
        "      <th>hours</th>\n",
        "      <th>latitude</th>\n",
        "      <th>longitude</th>\n",
        "      <th>business_name</th>\n",
        "      <th>neighborhoods</th>\n",
        "      <th>open</th>\n",
        "      <th>business_review_count</th>\n",
        "      <th>business_stars</th>\n",
        "      <th>state</th>\n",
        "      <th>review_date</th>\n",
        "      <th>review_id</th>\n",
        "      <th>review_stars</th>\n",
        "      <th>review_text</th>\n",
        "      <th>user_id</th>\n",
        "      <th>review_votes</th>\n",
        "      <th>average_stars</th>\n",
        "      <th>compliments</th>\n",
        "      <th>elite</th>\n",
        "      <th>fans</th>\n",
        "      <th>friends</th>\n",
        "      <th>user_name</th>\n",
        "      <th>user_review_count</th>\n",
        "      <th>user_votes</th>\n",
        "      <th>yelping_since</th>\n",
        "      <th>tip_date</th>\n",
        "      <th>likes</th>\n",
        "      <th>tip_text</th>\n",
        "    </tr>\n",
        "  </thead>\n",
        "  <tbody>\n",
        "    <tr>\n",
        "      <th>0</th>\n",
        "      <td> {u'Alcohol': u'full_bar', u'Noise Level': u'av...</td>\n",
        "      <td> mxrXVZWc6PWk81gvOVNOUw</td>\n",
        "      <td>     [American (Traditional), Restaurants]</td>\n",
        "      <td> Scottsdale</td>\n",
        "      <td> 4800 N Scottsdale Rd\\nSte 1700\\nScottsdale, AZ...</td>\n",
        "      <td> {u'Monday': {u'close': u'23:00', u'open': u'16...</td>\n",
        "      <td> 33.508695</td>\n",
        "      <td>-111.927080</td>\n",
        "      <td>              Roaring Fork</td>\n",
        "      <td> []</td>\n",
        "      <td> True</td>\n",
        "      <td> 463</td>\n",
        "      <td> 4.0</td>\n",
        "      <td> AZ</td>\n",
        "      <td> 2014-01-09 00:00:00</td>\n",
        "      <td> 6fCJWrPiNmzOeqHccc7BUw</td>\n",
        "      <td> 5</td>\n",
        "      <td> Awesome decor, great service, hidden gem in Sc...</td>\n",
        "      <td> jE5xVugujSaskAoh2DRx3Q</td>\n",
        "      <td> {u'funny': 0, u'useful': 0, u'cool': 0}</td>\n",
        "      <td> 3.65</td>\n",
        "      <td> {u'note': 1, u'funny': 1, u'writer': 2, u'plai...</td>\n",
        "      <td> []</td>\n",
        "      <td> 0</td>\n",
        "      <td> [5Fd93L51CcW9oiJxPPfgEQ, eKTZv1upkNLR5X2HSNd1f...</td>\n",
        "      <td>     S</td>\n",
        "      <td> 225</td>\n",
        "      <td> {u'funny': 36, u'useful': 135, u'cool': 29}</td>\n",
        "      <td> 2011-02</td>\n",
        "      <td> 2014-01-10 00:00:00</td>\n",
        "      <td> 0</td>\n",
        "      <td>        One of the best restaurants in Scottsdale.</td>\n",
        "    </tr>\n",
        "    <tr>\n",
        "      <th>1</th>\n",
        "      <td> {u'Alcohol': u'beer_and_wine', u'Noise Level':...</td>\n",
        "      <td> z3yFuLVrmH-3RJruPEMYKw</td>\n",
        "      <td> [Delis, Restaurants, Sandwiches, Italian]</td>\n",
        "      <td> Scottsdale</td>\n",
        "      <td> 2334 N Scottsdale Rd\\nSte A133\\nScottsdale, AZ...</td>\n",
        "      <td> {u'Monday': {u'close': u'21:00', u'open': u'10...</td>\n",
        "      <td> 33.474068</td>\n",
        "      <td>-111.927033</td>\n",
        "      <td> Defalco's Italian Grocery</td>\n",
        "      <td> []</td>\n",
        "      <td> True</td>\n",
        "      <td> 469</td>\n",
        "      <td> 4.5</td>\n",
        "      <td> AZ</td>\n",
        "      <td> 2010-08-08 00:00:00</td>\n",
        "      <td> 30yHYeC5uCeMB9lHU81EBQ</td>\n",
        "      <td> 5</td>\n",
        "      <td> I have been going to DeFalco's since 1984 when...</td>\n",
        "      <td> QnhQ8G51XbUpVEyWY2Km-A</td>\n",
        "      <td> {u'funny': 0, u'useful': 1, u'cool': 1}</td>\n",
        "      <td> 4.25</td>\n",
        "      <td>                                                {}</td>\n",
        "      <td> []</td>\n",
        "      <td> 0</td>\n",
        "      <td>                                                []</td>\n",
        "      <td> David</td>\n",
        "      <td>  11</td>\n",
        "      <td>    {u'funny': 0, u'useful': 18, u'cool': 4}</td>\n",
        "      <td> 2009-08</td>\n",
        "      <td> 2011-09-05 00:00:00</td>\n",
        "      <td> 0</td>\n",
        "      <td> DeFalco's has a new pizza crust recipe, and no...</td>\n",
        "    </tr>\n",
        "    <tr>\n",
        "      <th>2</th>\n",
        "      <td> {u'Alcohol': u'beer_and_wine', u'Noise Level':...</td>\n",
        "      <td> z3yFuLVrmH-3RJruPEMYKw</td>\n",
        "      <td> [Delis, Restaurants, Sandwiches, Italian]</td>\n",
        "      <td> Scottsdale</td>\n",
        "      <td> 2334 N Scottsdale Rd\\nSte A133\\nScottsdale, AZ...</td>\n",
        "      <td> {u'Monday': {u'close': u'21:00', u'open': u'10...</td>\n",
        "      <td> 33.474068</td>\n",
        "      <td>-111.927033</td>\n",
        "      <td> Defalco's Italian Grocery</td>\n",
        "      <td> []</td>\n",
        "      <td> True</td>\n",
        "      <td> 469</td>\n",
        "      <td> 4.5</td>\n",
        "      <td> AZ</td>\n",
        "      <td> 2010-08-08 00:00:00</td>\n",
        "      <td> 30yHYeC5uCeMB9lHU81EBQ</td>\n",
        "      <td> 5</td>\n",
        "      <td> I have been going to DeFalco's since 1984 when...</td>\n",
        "      <td> QnhQ8G51XbUpVEyWY2Km-A</td>\n",
        "      <td> {u'funny': 0, u'useful': 1, u'cool': 1}</td>\n",
        "      <td> 4.25</td>\n",
        "      <td>                                                {}</td>\n",
        "      <td> []</td>\n",
        "      <td> 0</td>\n",
        "      <td>                                                []</td>\n",
        "      <td> David</td>\n",
        "      <td>  11</td>\n",
        "      <td>    {u'funny': 0, u'useful': 18, u'cool': 4}</td>\n",
        "      <td> 2009-08</td>\n",
        "      <td> 2011-10-08 00:00:00</td>\n",
        "      <td> 0</td>\n",
        "      <td> Try the cappacola, hard salami, provolone sand...</td>\n",
        "    </tr>\n",
        "  </tbody>\n",
        "</table>\n",
        "</div>"
       ],
       "metadata": {},
       "output_type": "pyout",
       "prompt_number": 8,
       "text": [
        "                                          attributes             business_id  \\\n",
        "0  {u'Alcohol': u'full_bar', u'Noise Level': u'av...  mxrXVZWc6PWk81gvOVNOUw   \n",
        "1  {u'Alcohol': u'beer_and_wine', u'Noise Level':...  z3yFuLVrmH-3RJruPEMYKw   \n",
        "2  {u'Alcohol': u'beer_and_wine', u'Noise Level':...  z3yFuLVrmH-3RJruPEMYKw   \n",
        "\n",
        "                                  categories        city  \\\n",
        "0      [American (Traditional), Restaurants]  Scottsdale   \n",
        "1  [Delis, Restaurants, Sandwiches, Italian]  Scottsdale   \n",
        "2  [Delis, Restaurants, Sandwiches, Italian]  Scottsdale   \n",
        "\n",
        "                                        full_address  \\\n",
        "0  4800 N Scottsdale Rd\\nSte 1700\\nScottsdale, AZ...   \n",
        "1  2334 N Scottsdale Rd\\nSte A133\\nScottsdale, AZ...   \n",
        "2  2334 N Scottsdale Rd\\nSte A133\\nScottsdale, AZ...   \n",
        "\n",
        "                                               hours   latitude   longitude  \\\n",
        "0  {u'Monday': {u'close': u'23:00', u'open': u'16...  33.508695 -111.927080   \n",
        "1  {u'Monday': {u'close': u'21:00', u'open': u'10...  33.474068 -111.927033   \n",
        "2  {u'Monday': {u'close': u'21:00', u'open': u'10...  33.474068 -111.927033   \n",
        "\n",
        "               business_name neighborhoods  open  business_review_count  \\\n",
        "0               Roaring Fork            []  True                    463   \n",
        "1  Defalco's Italian Grocery            []  True                    469   \n",
        "2  Defalco's Italian Grocery            []  True                    469   \n",
        "\n",
        "   business_stars state          review_date               review_id  \\\n",
        "0             4.0    AZ  2014-01-09 00:00:00  6fCJWrPiNmzOeqHccc7BUw   \n",
        "1             4.5    AZ  2010-08-08 00:00:00  30yHYeC5uCeMB9lHU81EBQ   \n",
        "2             4.5    AZ  2010-08-08 00:00:00  30yHYeC5uCeMB9lHU81EBQ   \n",
        "\n",
        "   review_stars                                        review_text  \\\n",
        "0             5  Awesome decor, great service, hidden gem in Sc...   \n",
        "1             5  I have been going to DeFalco's since 1984 when...   \n",
        "2             5  I have been going to DeFalco's since 1984 when...   \n",
        "\n",
        "                  user_id                             review_votes  \\\n",
        "0  jE5xVugujSaskAoh2DRx3Q  {u'funny': 0, u'useful': 0, u'cool': 0}   \n",
        "1  QnhQ8G51XbUpVEyWY2Km-A  {u'funny': 0, u'useful': 1, u'cool': 1}   \n",
        "2  QnhQ8G51XbUpVEyWY2Km-A  {u'funny': 0, u'useful': 1, u'cool': 1}   \n",
        "\n",
        "   average_stars                                        compliments elite  \\\n",
        "0           3.65  {u'note': 1, u'funny': 1, u'writer': 2, u'plai...    []   \n",
        "1           4.25                                                 {}    []   \n",
        "2           4.25                                                 {}    []   \n",
        "\n",
        "   fans                                            friends user_name  \\\n",
        "0     0  [5Fd93L51CcW9oiJxPPfgEQ, eKTZv1upkNLR5X2HSNd1f...         S   \n",
        "1     0                                                 []     David   \n",
        "2     0                                                 []     David   \n",
        "\n",
        "   user_review_count                                   user_votes  \\\n",
        "0                225  {u'funny': 36, u'useful': 135, u'cool': 29}   \n",
        "1                 11     {u'funny': 0, u'useful': 18, u'cool': 4}   \n",
        "2                 11     {u'funny': 0, u'useful': 18, u'cool': 4}   \n",
        "\n",
        "  yelping_since             tip_date  likes  \\\n",
        "0       2011-02  2014-01-10 00:00:00      0   \n",
        "1       2009-08  2011-09-05 00:00:00      0   \n",
        "2       2009-08  2011-10-08 00:00:00      0   \n",
        "\n",
        "                                            tip_text  \n",
        "0         One of the best restaurants in Scottsdale.  \n",
        "1  DeFalco's has a new pizza crust recipe, and no...  \n",
        "2  Try the cappacola, hard salami, provolone sand...  "
       ]
      }
     ],
     "prompt_number": 8
    },
    {
     "cell_type": "code",
     "collapsed": false,
     "input": [
      "for x in range(3):\n",
      "    print TURBO_DF.review_text[x],os.linesep\n",
      "    "
     ],
     "language": "python",
     "metadata": {},
     "outputs": [
      {
       "output_type": "stream",
       "stream": "stdout",
       "text": [
        "Awesome decor, great service, hidden gem in Scottsdale. Delicious and unique menu. The lamb fondue was so great, the trout, salads and chicken. Interesting bread basket with an assortment of muffins and breads and a diverse dessert menu. They need something a bit more chocolate on it ;)\n",
        "Great place!  One of the best restaurants I have been to in Scottsdale!!! \n",
        "\n",
        "I have been going to DeFalco's since 1984 when they were at the old location on 68th and Thomas. I have eaten at other Italian delis all over the Valley but this place has no rivals. The quality of the food is excellent, and the staff gets to know all of the customers as they continue to return. I highly recommend the Purista, CHP, cheese steak, Margerite pizza, the Tim's Special pizza, and the soups. Go for Italian items - they can't be beat. The wine selection is also fantastic. Tony DeFalco, the owner, tries every single wine before putting a bottle on the shelves, and he has fantastic wines from a number of regions. I can't say enough about this place. I eat here at least three times a week and have for many years. Healthy and delicious. Make sure to call orders in ahead as this place gets really busy. DeFalco's is a true desert classic with 100 year old recipes, some of friendliest staff around, and a dedication to excellence. \n",
        "\n",
        "I have been going to DeFalco's since 1984 when they were at the old location on 68th and Thomas. I have eaten at other Italian delis all over the Valley but this place has no rivals. The quality of the food is excellent, and the staff gets to know all of the customers as they continue to return. I highly recommend the Purista, CHP, cheese steak, Margerite pizza, the Tim's Special pizza, and the soups. Go for Italian items - they can't be beat. The wine selection is also fantastic. Tony DeFalco, the owner, tries every single wine before putting a bottle on the shelves, and he has fantastic wines from a number of regions. I can't say enough about this place. I eat here at least three times a week and have for many years. Healthy and delicious. Make sure to call orders in ahead as this place gets really busy. DeFalco's is a true desert classic with 100 year old recipes, some of friendliest staff around, and a dedication to excellence. \n",
        "\n"
       ]
      }
     ],
     "prompt_number": 9
    },
    {
     "cell_type": "markdown",
     "metadata": {},
     "source": [
      "We're interested in predicting the number of stars given based on the text, so we drop most other columns.  tip_text is kept because it should prove to be interesting to look at.  "
     ]
    },
    {
     "cell_type": "code",
     "collapsed": false,
     "input": [
      "toDrop = [0,1,2,3,4,5,6,7,8,9,10,11,12,13,14,15,18,19,20,21,22,23,24,25,26,27,28,29,30]\n",
      "print toDrop\n",
      "TURBO_DF.drop(TURBO_DF.columns[toDrop], axis = 1, inplace = True)\n",
      "TURBO_DF.head(1)"
     ],
     "language": "python",
     "metadata": {},
     "outputs": [
      {
       "output_type": "stream",
       "stream": "stdout",
       "text": [
        "[0, 1, 2, 3, 4, 5, 6, 7, 8, 9, 10, 11, 12, 13, 14, 15, 18, 19, 20, 21, 22, 23, 24, 25, 26, 27, 28, 29, 30]\n"
       ]
      },
      {
       "html": [
        "<div style=\"max-height:1000px;max-width:1500px;overflow:auto;\">\n",
        "<table border=\"1\" class=\"dataframe\">\n",
        "  <thead>\n",
        "    <tr style=\"text-align: right;\">\n",
        "      <th></th>\n",
        "      <th>review_stars</th>\n",
        "      <th>review_text</th>\n",
        "      <th>tip_text</th>\n",
        "    </tr>\n",
        "  </thead>\n",
        "  <tbody>\n",
        "    <tr>\n",
        "      <th>0</th>\n",
        "      <td> 5</td>\n",
        "      <td> Awesome decor, great service, hidden gem in Sc...</td>\n",
        "      <td> One of the best restaurants in Scottsdale.</td>\n",
        "    </tr>\n",
        "  </tbody>\n",
        "</table>\n",
        "</div>"
       ],
       "metadata": {},
       "output_type": "pyout",
       "prompt_number": 10,
       "text": [
        "   review_stars                                        review_text  \\\n",
        "0             5  Awesome decor, great service, hidden gem in Sc...   \n",
        "\n",
        "                                     tip_text  \n",
        "0  One of the best restaurants in Scottsdale.  "
       ]
      }
     ],
     "prompt_number": 10
    },
    {
     "cell_type": "code",
     "collapsed": false,
     "input": [
      "# good tutorial -\n",
      "# www.cs.duke.edu/courses/spring14/compsci290/assignments/lab02.html\n",
      "POSITIVE_WORDS = set([line.strip() for line in open('positive-words.txt', 'r')])\n",
      "NEGATIVE_WORDS = set([line.strip() for line in open('negative-words.txt', 'r')])\n",
      "NLTK_STOPWORDS = set(stopwords.words('english'))\n",
      "MORE_STOPWORDS = set([line.strip() for line in open('more_stopwords.txt', 'r')])\n",
      "\n",
      "#lower case, removes punctuation, tokenizes, and \n",
      "def lowercase_remove_punctuation_and_tokenize(s):\n",
      "    s = s.lower()\n",
      "    s = s.translate(None, string.punctuation)\n",
      "    token_list = nltk.word_tokenize(s)\n",
      "    exclude_stopwords = lambda token : token not in NLTK_STOPWORDS\n",
      "    return filter(exclude_stopwords, token_list)\n",
      "\n",
      "def preProcess(s):#sub_dataframe):\n",
      "    #s = sub_dataframe.review_text.sum()\n",
      "    return ' '.join(lowercase_remove_punctuation_and_tokenize(s))"
     ],
     "language": "python",
     "metadata": {},
     "outputs": [],
     "prompt_number": 11
    },
    {
     "cell_type": "code",
     "collapsed": false,
     "input": [
      "initial_features = ['review_stars', 'review_text']\n",
      "TURBO_features = TURBO_DF[initial_features]\n",
      "TURBO_features.review_text.apply(str) \n",
      "TURBO_features['review_text_preprocessed'] = TURBO_features.review_text.apply(preProcess)"
     ],
     "language": "python",
     "metadata": {},
     "outputs": [],
     "prompt_number": 12
    },
    {
     "cell_type": "code",
     "collapsed": false,
     "input": [
      "tokenized = TURBO_features.review_text_preprocessed\n",
      "print tokenized.shape\n",
      "tokenized.head()"
     ],
     "language": "python",
     "metadata": {},
     "outputs": [
      {
       "output_type": "stream",
       "stream": "stdout",
       "text": [
        "(36824,)\n"
       ]
      },
      {
       "metadata": {},
       "output_type": "pyout",
       "prompt_number": 13,
       "text": [
        "0    awesome decor great service hidden gem scottsd...\n",
        "1    going defalcos since 1984 old location 68th th...\n",
        "2    going defalcos since 1984 old location 68th th...\n",
        "3    going defalcos since 1984 old location 68th th...\n",
        "4    defalcos slowly perfecting pizza recipe last c...\n",
        "Name: review_text_preprocessed, dtype: object"
       ]
      }
     ],
     "prompt_number": 13
    },
    {
     "cell_type": "code",
     "collapsed": false,
     "input": [
      "tokenized.ratings = 1;\n",
      "print type(tokenized)\n",
      "print \"dim\", tokenized.ndim\n",
      "from sklearn.cross_validation import train_test_split\n",
      "train_X, test_X, train_y, test_y = train_test_split(tokenized, TURBO_features.review_stars, test_size=0.8)\n",
      "print train_X.shape\n",
      "print test_X.shape\n",
      "print train_y.shape"
     ],
     "language": "python",
     "metadata": {},
     "outputs": [
      {
       "output_type": "stream",
       "stream": "stdout",
       "text": [
        "<class 'pandas.core.series.Series'>\n",
        "dim 1\n",
        "(7364,)"
       ]
      },
      {
       "output_type": "stream",
       "stream": "stdout",
       "text": [
        "\n",
        "(29460,)\n",
        "(7364,)\n"
       ]
      }
     ],
     "prompt_number": 14
    },
    {
     "cell_type": "code",
     "collapsed": false,
     "input": [
      "from sklearn.feature_extraction.text import CountVectorizer\n",
      "vectorizer = CountVectorizer(analyzer = \"word\",   \n",
      "                             tokenizer = None,    \n",
      "                             preprocessor = None, \n",
      "                             stop_words = None,   \n",
      "                             max_features = 5000) \n",
      "type(vectorizer)"
     ],
     "language": "python",
     "metadata": {},
     "outputs": [
      {
       "metadata": {},
       "output_type": "pyout",
       "prompt_number": 15,
       "text": [
        "sklearn.feature_extraction.text.CountVectorizer"
       ]
      }
     ],
     "prompt_number": 15
    },
    {
     "cell_type": "code",
     "collapsed": false,
     "input": [
      "model_train = vectorizer.fit_transform(train_X)\n",
      "model_test = vectorizer.fit_transform(test_X)\n",
      "model_train, model_test"
     ],
     "language": "python",
     "metadata": {},
     "outputs": [
      {
       "metadata": {},
       "output_type": "pyout",
       "prompt_number": 16,
       "text": [
        "(<7364x5000 sparse matrix of type '<type 'numpy.int64'>'\n",
        " \twith 331465 stored elements in Compressed Sparse Row format>,\n",
        " <29460x5000 sparse matrix of type '<type 'numpy.int64'>'\n",
        " \twith 1345226 stored elements in Compressed Sparse Row format>)"
       ]
      }
     ],
     "prompt_number": 16
    },
    {
     "cell_type": "code",
     "collapsed": false,
     "input": [
      "# Take a look at the words in the vocabulary\n",
      "vocab = vectorizer.get_feature_names()\n",
      "#print vocab"
     ],
     "language": "python",
     "metadata": {},
     "outputs": [
      {
       "ename": "SyntaxError",
       "evalue": "invalid syntax (<ipython-input-17-05f2518dccf0>, line 3)",
       "output_type": "pyerr",
       "traceback": [
        "\u001b[1;36m  File \u001b[1;32m\"<ipython-input-17-05f2518dccf0>\"\u001b[1;36m, line \u001b[1;32m3\u001b[0m\n\u001b[1;33m    (/print, vocab)\u001b[0m\n\u001b[1;37m     ^\u001b[0m\n\u001b[1;31mSyntaxError\u001b[0m\u001b[1;31m:\u001b[0m invalid syntax\n"
       ]
      }
     ],
     "prompt_number": 17
    },
    {
     "cell_type": "code",
     "collapsed": false,
     "input": [
      "document_term_matrix_train = model_train.toarray()\n",
      "document_term_matrix_test = model_test.toarray()"
     ],
     "language": "python",
     "metadata": {},
     "outputs": [],
     "prompt_number": 18
    },
    {
     "cell_type": "code",
     "collapsed": false,
     "input": [
      "from sklearn.naive_bayes import BernoulliNB\n",
      "from sklearn.naive_bayes import GaussianNB\n",
      "from sklearn.naive_bayes import MultinomialNB\n",
      "from sklearn.ensemble import RandomForestClassifier\n",
      "\n",
      "Bernoulli_nb = BernoulliNB()\n",
      "Gaussian_nb = GaussianNB()\n",
      "Multinomial_nb = MultinomialNB()\n",
      "forest100 = RandomForestClassifier(n_estimators = 100)\n",
      "\n",
      "forest100.fit(document_term_matrix_train, train_y)\n",
      "Bernoulli_nb.fit(document_term_matrix_train, train_y)\n",
      "Gaussian_nb.fit(document_term_matrix_train, train_y)\n",
      "Multinomial_nb.fit(document_term_matrix_train, train_y)\n",
      "\n",
      "forest100_pred = forest100.predict(document_term_matrix_test)\n",
      "Bernoulli_pred = Bernoulli_nb.predict(document_term_matrix_test)\n",
      "Gaussian_pred = Gaussian_nb.predict(document_term_matrix_test)\n",
      "Multinomial_pred = Multinomial_nb.predict(document_term_matrix_test)"
     ],
     "language": "python",
     "metadata": {},
     "outputs": [],
     "prompt_number": 19
    },
    {
     "cell_type": "code",
     "collapsed": false,
     "input": [
      "from sklearn.metrics import confusion_matrix\n",
      "import matplotlib.pyplot as plt\n",
      "Bernoulli_cm = confusion_matrix(test_y, Bernoulli_pred)\n",
      "Gaussian_cm = confusion_matrix(test_y, Gaussian_pred)\n",
      "Multinomial_cm = confusion_matrix(test_y, Multinomial_pred)\n",
      "forest100_cm = confusion_matrix(test_y, forest100_pred)\n",
      "\n",
      "plt.matshow(Bernoulli_cm)\n",
      "plt.title('Bernoulli CM')\n",
      "plt.colorbar()\n",
      "plt.ylabel('True label')\n",
      "plt.xlabel('Predicted label')\n",
      "plt.xticks(np.arange(5), np.arange(1,6))\n",
      "plt.yticks(np.arange(5), np.arange(1,6))\n",
      "plt.savefig('BernoulliCM.png', bbox_inches='tight')\n",
      "plt.show()\n",
      "\n",
      "plt.matshow(Gaussian_cm)\n",
      "plt.title('Gaussian CM')\n",
      "plt.colorbar()\n",
      "plt.ylabel('True label')\n",
      "plt.xlabel('Predicted label')\n",
      "plt.xticks(np.arange(5), np.arange(1,6))\n",
      "plt.yticks(np.arange(5), np.arange(1,6))\n",
      "plt.savefig('GaussianCM.png', bbox_inches='tight')\n",
      "plt.show()\n",
      "\n",
      "plt.matshow(Multinomial_cm)\n",
      "plt.title('Multinomial CM')\n",
      "plt.colorbar()\n",
      "plt.ylabel('True label')\n",
      "plt.xlabel('Predicted label')\n",
      "plt.xticks(np.arange(5), np.arange(1,6))\n",
      "plt.yticks(np.arange(5), np.arange(1,6))\n",
      "plt.savefig('MultinomialCM.png', bbox_inches='tight')\n",
      "plt.show()\n",
      "\n",
      "plt.matshow(forest100_cm)\n",
      "plt.title('100 tree forest CM')\n",
      "plt.colorbar()\n",
      "plt.ylabel('True label')\n",
      "plt.xlabel('Predicted label')\n",
      "plt.xticks(np.arange(5), np.arange(1,6))\n",
      "plt.yticks(np.arange(5), np.arange(1,6))\n",
      "plt.savefig('forest100_cm.png', bbox_inches='tight')\n",
      "plt.show()\n"
     ],
     "language": "python",
     "metadata": {},
     "outputs": [
      {
       "output_type": "stream",
       "stream": "stderr",
       "text": [
        "/home/henry/anaconda/lib/python2.7/site-packages/matplotlib/font_manager.py:1279: UserWarning:\n",
        "\n",
        "findfont: Font family ['monospace'] not found. Falling back to Bitstream Vera Sans\n",
        "\n"
       ]
      },
      {
       "metadata": {},
       "output_type": "display_data",
       "png": "[encoded data removed]",
       "text": [
        "<matplotlib.figure.Figure at 0x7f44e18ecc10>"
       ]
      },
      {
       "metadata": {},
       "output_type": "display_data",
       "png": "[encoded data removed]",
       "text": [
        "<matplotlib.figure.Figure at 0x7f44e18b2b50>"
       ]
      },
      {
       "metadata": {},
       "output_type": "display_data",
       "png": "[encoded data removed]",
       "text": [
        "<matplotlib.figure.Figure at 0x7f44e1bd6150>"
       ]
      },
      {
       "metadata": {},
       "output_type": "display_data",
       "png": "[encoded data removed]",
       "text": [
        "<matplotlib.figure.Figure at 0x7f44e17561d0>"
       ]
      }
     ],
     "prompt_number": 20
    },
    {
     "cell_type": "code",
     "collapsed": false,
     "input": [],
     "language": "python",
     "metadata": {},
     "outputs": []
    },
    {
     "cell_type": "code",
     "collapsed": false,
     "input": [],
     "language": "python",
     "metadata": {},
     "outputs": []
    },
    {
     "cell_type": "code",
     "collapsed": false,
     "input": [],
     "language": "python",
     "metadata": {},
     "outputs": []
    }
   ],
   "metadata": {}
  }
 ]
}