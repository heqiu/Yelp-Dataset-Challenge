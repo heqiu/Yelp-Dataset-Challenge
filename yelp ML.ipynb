{
 "metadata": {
  "name": "",
  "signature": "sha256:0d7eb8bb4738ce658f19a250624d4bc7768d2c49af69a1f6c674176535025f4c"
 },
 "nbformat": 3,
 "nbformat_minor": 0,
 "worksheets": [
  {
   "cells": [
    {
     "cell_type": "code",
     "collapsed": false,
     "input": [
      "import os\n",
      "import numpy as np\n",
      "import pandas as pd\n",
      "import matplotlib.pyplot as plt\n",
      "from pandas import Series, DataFrame\n",
      "import sklearn\n",
      "import nltk\n",
      "import string\n",
      "from nltk import word_tokenize\n",
      "from nltk.corpus import stopwords\n",
      "from nltk.stem.porter import PorterStemmer\n",
      "from collections import Counter\n",
      "\n",
      "nltk.download() # download the english stopwords corpus and the punkt package and maybe the porter stemmer if not present\n",
      "\n",
      "\n",
      "%matplotlib inline\n",
      "pd.options.display.mpl_style = 'default'\n",
      "\n",
      "pd.set_option('display.max_columns', 36)\n",
      "print pd.__version__\n",
      "\n",
      "%load_ext rpy2.ipython"
     ],
     "language": "python",
     "metadata": {},
     "outputs": []
    },
    {
     "cell_type": "code",
     "collapsed": false,
     "input": [
      "%%bash\n",
      "# thank you Kevin Bouge http://sites.google.com/site/kevinbouge/stopwords-lists\n",
      "wget --quiet --output-document=more_stopwords.txt http://sites.google.com/site/kevinbouge/stopwords-lists/stopwords_en.txt?attredirects=0&d=1\n",
      "\n",
      "# http://www2.cs.uic.edu/~liub/\n",
      "# Hu, Minqing, and Bing Liu. \"Mining and summarizing customer reviews.\" Proceedings of the tenth ACM SIGKDD international conference on Knowledge discovery and data mining. ACM, 2004.\n",
      "# Liu, Bing, Minqing Hu, and Junsheng Cheng. \"Opinion observer: analyzing and comparing opinions on the web.\" Proceedings of the 14th international conference on World Wide Web. ACM, 2005.\n",
      "wget --quiet --output-document=opinions.rar http://www.cs.uic.edu/~liub/FBS/opinion-lexicon-English.rar\n",
      "unrar e -o+ --silent opinions.rar > /dev/null\n",
      "sed -i '/^;/d' positive-words.txt\n",
      "sed -i '/^;/d' negative-words.txt"
     ],
     "language": "python",
     "metadata": {},
     "outputs": []
    },
    {
     "cell_type": "code",
     "collapsed": false,
     "input": [
      "import plotly.plotly as py\n",
      "import plotly.tools as tls\n",
      "from plotly.graph_objs import *\n",
      "\n",
      "py.sign_in('heqiu', 'ky83ugw1y8')"
     ],
     "language": "python",
     "metadata": {},
     "outputs": [],
     "prompt_number": 3
    },
    {
     "cell_type": "code",
     "collapsed": false,
     "input": [
      "MY_YELP_JSON_CLEAN_DATA_DIR = \"/home/henry/Dropbox/Classes/Cogs\\ 118B/yelp\\ dataset\\ challenge/Cleaned_Data_Directory\"\n",
      "MY_YELP_OUTPUT_DIR = os.path.join(\"/home/henry/Dropbox/Classes/Cogs\\ 118B/yelp\\ dataset\\ challenge/\", \"Output_Directory\")\n",
      "print \"output directory with backslashes\", MY_YELP_OUTPUT_DIR\n",
      "noSlashOutputDir = \"/home/henry/Dropbox/Classes/Cogs 118B/yelp dataset challenge/Output_Directory\"\n",
      "print \"output directory without backslashes\", noSlashOutputDir\n",
      "!echo MY_YELP_JSON_CLEAN_DATA_DIR : $MY_YELP_JSON_CLEAN_DATA_DIR\n",
      "!ls -sh $MY_YELP_JSON_CLEAN_DATA_DIR"
     ],
     "language": "python",
     "metadata": {},
     "outputs": [
      {
       "output_type": "stream",
       "stream": "stdout",
       "text": [
        "output directory with backslashes /home/henry/Dropbox/Classes/Cogs\\ 118B/yelp\\ dataset\\ challenge/Output_Directory\n",
        "output directory without backslashes /home/henry/Dropbox/Classes/Cogs 118B/yelp dataset challenge/Output_Directory\n",
        "MY_YELP_JSON_CLEAN_DATA_DIR : /home/henry/Dropbox/Classes/Cogs 118B/yelp dataset challenge/Cleaned_Data_Directory\r\n"
       ]
      },
      {
       "output_type": "stream",
       "stream": "stdout",
       "text": [
        "total 108M\r\n",
        "108M TURBO_p1.csv\r\n"
       ]
      }
     ],
     "prompt_number": 4
    },
    {
     "cell_type": "code",
     "collapsed": false,
     "input": [
      "turbo_csv_filename = os.path.join(\"/home/henry/Dropbox/Classes/Cogs 118B/yelp dataset challenge/\", 'TURBO_p1.csv')\n",
      "TURBO_DF = pd.read_csv(turbo_csv_filename)"
     ],
     "language": "python",
     "metadata": {},
     "outputs": [],
     "prompt_number": 5
    },
    {
     "cell_type": "markdown",
     "metadata": {},
     "source": [
      "Lets see an example of the data frame."
     ]
    },
    {
     "cell_type": "code",
     "collapsed": false,
     "input": [
      "TURBO_DF.head(3)"
     ],
     "language": "python",
     "metadata": {},
     "outputs": [
      {
       "html": [
        "<div style=\"max-height:1000px;max-width:1500px;overflow:auto;\">\n",
        "<table border=\"1\" class=\"dataframe\">\n",
        "  <thead>\n",
        "    <tr style=\"text-align: right;\">\n",
        "      <th></th>\n",
        "      <th>attributes</th>\n",
        "      <th>business_id</th>\n",
        "      <th>categories</th>\n",
        "      <th>city</th>\n",
        "      <th>full_address</th>\n",
        "      <th>hours</th>\n",
        "      <th>latitude</th>\n",
        "      <th>longitude</th>\n",
        "      <th>business_name</th>\n",
        "      <th>neighborhoods</th>\n",
        "      <th>open</th>\n",
        "      <th>business_review_count</th>\n",
        "      <th>business_stars</th>\n",
        "      <th>state</th>\n",
        "      <th>type_x</th>\n",
        "      <th>review_date</th>\n",
        "      <th>review_id</th>\n",
        "      <th>review_stars</th>\n",
        "      <th>review_text</th>\n",
        "      <th>type_y</th>\n",
        "      <th>user_id</th>\n",
        "      <th>review_votes</th>\n",
        "      <th>average_stars</th>\n",
        "      <th>compliments</th>\n",
        "      <th>elite</th>\n",
        "      <th>fans</th>\n",
        "      <th>friends</th>\n",
        "      <th>user_name</th>\n",
        "      <th>user_review_count</th>\n",
        "      <th>type_x.1</th>\n",
        "      <th>user_votes</th>\n",
        "      <th>yelping_since</th>\n",
        "      <th>tip_date</th>\n",
        "      <th>likes</th>\n",
        "      <th>tip_text</th>\n",
        "      <th>type_y.1</th>\n",
        "    </tr>\n",
        "  </thead>\n",
        "  <tbody>\n",
        "    <tr>\n",
        "      <th>0</th>\n",
        "      <td> {u'Alcohol': u'full_bar', u'Noise Level': u'av...</td>\n",
        "      <td> mxrXVZWc6PWk81gvOVNOUw</td>\n",
        "      <td>     [American (Traditional), Restaurants]</td>\n",
        "      <td> Scottsdale</td>\n",
        "      <td> 4800 N Scottsdale Rd\\nSte 1700\\nScottsdale, AZ...</td>\n",
        "      <td> {u'Monday': {u'close': u'23:00', u'open': u'16...</td>\n",
        "      <td> 33.508695</td>\n",
        "      <td>-111.927080</td>\n",
        "      <td>              Roaring Fork</td>\n",
        "      <td> []</td>\n",
        "      <td> True</td>\n",
        "      <td> 463</td>\n",
        "      <td> 4.0</td>\n",
        "      <td> AZ</td>\n",
        "      <td> business</td>\n",
        "      <td> 2014-01-09 00:00:00</td>\n",
        "      <td> 6fCJWrPiNmzOeqHccc7BUw</td>\n",
        "      <td> 5</td>\n",
        "      <td> Awesome decor, great service, hidden gem in Sc...</td>\n",
        "      <td> review</td>\n",
        "      <td> jE5xVugujSaskAoh2DRx3Q</td>\n",
        "      <td> {u'funny': 0, u'useful': 0, u'cool': 0}</td>\n",
        "      <td> 3.65</td>\n",
        "      <td> {u'note': 1, u'funny': 1, u'writer': 2, u'plai...</td>\n",
        "      <td> []</td>\n",
        "      <td> 0</td>\n",
        "      <td> [5Fd93L51CcW9oiJxPPfgEQ, eKTZv1upkNLR5X2HSNd1f...</td>\n",
        "      <td>     S</td>\n",
        "      <td> 225</td>\n",
        "      <td> user</td>\n",
        "      <td> {u'funny': 36, u'useful': 135, u'cool': 29}</td>\n",
        "      <td> 2011-02</td>\n",
        "      <td> 2014-01-10 00:00:00</td>\n",
        "      <td> 0</td>\n",
        "      <td>        One of the best restaurants in Scottsdale.</td>\n",
        "      <td> tip</td>\n",
        "    </tr>\n",
        "    <tr>\n",
        "      <th>1</th>\n",
        "      <td> {u'Alcohol': u'beer_and_wine', u'Noise Level':...</td>\n",
        "      <td> z3yFuLVrmH-3RJruPEMYKw</td>\n",
        "      <td> [Delis, Restaurants, Sandwiches, Italian]</td>\n",
        "      <td> Scottsdale</td>\n",
        "      <td> 2334 N Scottsdale Rd\\nSte A133\\nScottsdale, AZ...</td>\n",
        "      <td> {u'Monday': {u'close': u'21:00', u'open': u'10...</td>\n",
        "      <td> 33.474068</td>\n",
        "      <td>-111.927033</td>\n",
        "      <td> Defalco's Italian Grocery</td>\n",
        "      <td> []</td>\n",
        "      <td> True</td>\n",
        "      <td> 469</td>\n",
        "      <td> 4.5</td>\n",
        "      <td> AZ</td>\n",
        "      <td> business</td>\n",
        "      <td> 2010-08-08 00:00:00</td>\n",
        "      <td> 30yHYeC5uCeMB9lHU81EBQ</td>\n",
        "      <td> 5</td>\n",
        "      <td> I have been going to DeFalco's since 1984 when...</td>\n",
        "      <td> review</td>\n",
        "      <td> QnhQ8G51XbUpVEyWY2Km-A</td>\n",
        "      <td> {u'funny': 0, u'useful': 1, u'cool': 1}</td>\n",
        "      <td> 4.25</td>\n",
        "      <td>                                                {}</td>\n",
        "      <td> []</td>\n",
        "      <td> 0</td>\n",
        "      <td>                                                []</td>\n",
        "      <td> David</td>\n",
        "      <td>  11</td>\n",
        "      <td> user</td>\n",
        "      <td>    {u'funny': 0, u'useful': 18, u'cool': 4}</td>\n",
        "      <td> 2009-08</td>\n",
        "      <td> 2011-09-05 00:00:00</td>\n",
        "      <td> 0</td>\n",
        "      <td> DeFalco's has a new pizza crust recipe, and no...</td>\n",
        "      <td> tip</td>\n",
        "    </tr>\n",
        "    <tr>\n",
        "      <th>2</th>\n",
        "      <td> {u'Alcohol': u'beer_and_wine', u'Noise Level':...</td>\n",
        "      <td> z3yFuLVrmH-3RJruPEMYKw</td>\n",
        "      <td> [Delis, Restaurants, Sandwiches, Italian]</td>\n",
        "      <td> Scottsdale</td>\n",
        "      <td> 2334 N Scottsdale Rd\\nSte A133\\nScottsdale, AZ...</td>\n",
        "      <td> {u'Monday': {u'close': u'21:00', u'open': u'10...</td>\n",
        "      <td> 33.474068</td>\n",
        "      <td>-111.927033</td>\n",
        "      <td> Defalco's Italian Grocery</td>\n",
        "      <td> []</td>\n",
        "      <td> True</td>\n",
        "      <td> 469</td>\n",
        "      <td> 4.5</td>\n",
        "      <td> AZ</td>\n",
        "      <td> business</td>\n",
        "      <td> 2010-08-08 00:00:00</td>\n",
        "      <td> 30yHYeC5uCeMB9lHU81EBQ</td>\n",
        "      <td> 5</td>\n",
        "      <td> I have been going to DeFalco's since 1984 when...</td>\n",
        "      <td> review</td>\n",
        "      <td> QnhQ8G51XbUpVEyWY2Km-A</td>\n",
        "      <td> {u'funny': 0, u'useful': 1, u'cool': 1}</td>\n",
        "      <td> 4.25</td>\n",
        "      <td>                                                {}</td>\n",
        "      <td> []</td>\n",
        "      <td> 0</td>\n",
        "      <td>                                                []</td>\n",
        "      <td> David</td>\n",
        "      <td>  11</td>\n",
        "      <td> user</td>\n",
        "      <td>    {u'funny': 0, u'useful': 18, u'cool': 4}</td>\n",
        "      <td> 2009-08</td>\n",
        "      <td> 2011-10-08 00:00:00</td>\n",
        "      <td> 0</td>\n",
        "      <td> Try the cappacola, hard salami, provolone sand...</td>\n",
        "      <td> tip</td>\n",
        "    </tr>\n",
        "  </tbody>\n",
        "</table>\n",
        "</div>"
       ],
       "metadata": {},
       "output_type": "pyout",
       "prompt_number": 6,
       "text": [
        "                                          attributes             business_id  \\\n",
        "0  {u'Alcohol': u'full_bar', u'Noise Level': u'av...  mxrXVZWc6PWk81gvOVNOUw   \n",
        "1  {u'Alcohol': u'beer_and_wine', u'Noise Level':...  z3yFuLVrmH-3RJruPEMYKw   \n",
        "2  {u'Alcohol': u'beer_and_wine', u'Noise Level':...  z3yFuLVrmH-3RJruPEMYKw   \n",
        "\n",
        "                                  categories        city  \\\n",
        "0      [American (Traditional), Restaurants]  Scottsdale   \n",
        "1  [Delis, Restaurants, Sandwiches, Italian]  Scottsdale   \n",
        "2  [Delis, Restaurants, Sandwiches, Italian]  Scottsdale   \n",
        "\n",
        "                                        full_address  \\\n",
        "0  4800 N Scottsdale Rd\\nSte 1700\\nScottsdale, AZ...   \n",
        "1  2334 N Scottsdale Rd\\nSte A133\\nScottsdale, AZ...   \n",
        "2  2334 N Scottsdale Rd\\nSte A133\\nScottsdale, AZ...   \n",
        "\n",
        "                                               hours   latitude   longitude  \\\n",
        "0  {u'Monday': {u'close': u'23:00', u'open': u'16...  33.508695 -111.927080   \n",
        "1  {u'Monday': {u'close': u'21:00', u'open': u'10...  33.474068 -111.927033   \n",
        "2  {u'Monday': {u'close': u'21:00', u'open': u'10...  33.474068 -111.927033   \n",
        "\n",
        "               business_name neighborhoods  open  business_review_count  \\\n",
        "0               Roaring Fork            []  True                    463   \n",
        "1  Defalco's Italian Grocery            []  True                    469   \n",
        "2  Defalco's Italian Grocery            []  True                    469   \n",
        "\n",
        "   business_stars state    type_x          review_date  \\\n",
        "0             4.0    AZ  business  2014-01-09 00:00:00   \n",
        "1             4.5    AZ  business  2010-08-08 00:00:00   \n",
        "2             4.5    AZ  business  2010-08-08 00:00:00   \n",
        "\n",
        "                review_id  review_stars  \\\n",
        "0  6fCJWrPiNmzOeqHccc7BUw             5   \n",
        "1  30yHYeC5uCeMB9lHU81EBQ             5   \n",
        "2  30yHYeC5uCeMB9lHU81EBQ             5   \n",
        "\n",
        "                                         review_text  type_y  \\\n",
        "0  Awesome decor, great service, hidden gem in Sc...  review   \n",
        "1  I have been going to DeFalco's since 1984 when...  review   \n",
        "2  I have been going to DeFalco's since 1984 when...  review   \n",
        "\n",
        "                  user_id                             review_votes  \\\n",
        "0  jE5xVugujSaskAoh2DRx3Q  {u'funny': 0, u'useful': 0, u'cool': 0}   \n",
        "1  QnhQ8G51XbUpVEyWY2Km-A  {u'funny': 0, u'useful': 1, u'cool': 1}   \n",
        "2  QnhQ8G51XbUpVEyWY2Km-A  {u'funny': 0, u'useful': 1, u'cool': 1}   \n",
        "\n",
        "   average_stars                                        compliments elite  \\\n",
        "0           3.65  {u'note': 1, u'funny': 1, u'writer': 2, u'plai...    []   \n",
        "1           4.25                                                 {}    []   \n",
        "2           4.25                                                 {}    []   \n",
        "\n",
        "   fans                                            friends user_name  \\\n",
        "0     0  [5Fd93L51CcW9oiJxPPfgEQ, eKTZv1upkNLR5X2HSNd1f...         S   \n",
        "1     0                                                 []     David   \n",
        "2     0                                                 []     David   \n",
        "\n",
        "   user_review_count type_x.1                                   user_votes  \\\n",
        "0                225     user  {u'funny': 36, u'useful': 135, u'cool': 29}   \n",
        "1                 11     user     {u'funny': 0, u'useful': 18, u'cool': 4}   \n",
        "2                 11     user     {u'funny': 0, u'useful': 18, u'cool': 4}   \n",
        "\n",
        "  yelping_since             tip_date  likes  \\\n",
        "0       2011-02  2014-01-10 00:00:00      0   \n",
        "1       2009-08  2011-09-05 00:00:00      0   \n",
        "2       2009-08  2011-10-08 00:00:00      0   \n",
        "\n",
        "                                            tip_text type_y.1  \n",
        "0         One of the best restaurants in Scottsdale.      tip  \n",
        "1  DeFalco's has a new pizza crust recipe, and no...      tip  \n",
        "2  Try the cappacola, hard salami, provolone sand...      tip  "
       ]
      }
     ],
     "prompt_number": 6
    },
    {
     "cell_type": "code",
     "collapsed": false,
     "input": [
      "print TURBO_DF.columns.values"
     ],
     "language": "python",
     "metadata": {},
     "outputs": [
      {
       "output_type": "stream",
       "stream": "stdout",
       "text": [
        "['attributes' 'business_id' 'categories' 'city' 'full_address' 'hours'\n",
        " 'latitude' 'longitude' 'business_name' 'neighborhoods' 'open'\n",
        " 'business_review_count' 'business_stars' 'state' 'type_x' 'review_date'\n",
        " 'review_id' 'review_stars' 'review_text' 'type_y' 'user_id' 'review_votes'\n",
        " 'average_stars' 'compliments' 'elite' 'fans' 'friends' 'user_name'\n",
        " 'user_review_count' 'type_x.1' 'user_votes' 'yelping_since' 'tip_date'\n",
        " 'likes' 'tip_text' 'type_y.1']\n"
       ]
      }
     ],
     "prompt_number": 7
    },
    {
     "cell_type": "code",
     "collapsed": false,
     "input": [
      "type_columns_indices = np.nonzero(map(lambda col_name : col_name.startswith('type'), TURBO_DF.columns))\n",
      "TURBO_DF.drop(TURBO_DF.columns[type_columns_indices], axis=1, inplace=True)\n",
      "TURBO_DF.head(3)"
     ],
     "language": "python",
     "metadata": {},
     "outputs": [
      {
       "html": [
        "<div style=\"max-height:1000px;max-width:1500px;overflow:auto;\">\n",
        "<table border=\"1\" class=\"dataframe\">\n",
        "  <thead>\n",
        "    <tr style=\"text-align: right;\">\n",
        "      <th></th>\n",
        "      <th>attributes</th>\n",
        "      <th>business_id</th>\n",
        "      <th>categories</th>\n",
        "      <th>city</th>\n",
        "      <th>full_address</th>\n",
        "      <th>hours</th>\n",
        "      <th>latitude</th>\n",
        "      <th>longitude</th>\n",
        "      <th>business_name</th>\n",
        "      <th>neighborhoods</th>\n",
        "      <th>open</th>\n",
        "      <th>business_review_count</th>\n",
        "      <th>business_stars</th>\n",
        "      <th>state</th>\n",
        "      <th>review_date</th>\n",
        "      <th>review_id</th>\n",
        "      <th>review_stars</th>\n",
        "      <th>review_text</th>\n",
        "      <th>user_id</th>\n",
        "      <th>review_votes</th>\n",
        "      <th>average_stars</th>\n",
        "      <th>compliments</th>\n",
        "      <th>elite</th>\n",
        "      <th>fans</th>\n",
        "      <th>friends</th>\n",
        "      <th>user_name</th>\n",
        "      <th>user_review_count</th>\n",
        "      <th>user_votes</th>\n",
        "      <th>yelping_since</th>\n",
        "      <th>tip_date</th>\n",
        "      <th>likes</th>\n",
        "      <th>tip_text</th>\n",
        "    </tr>\n",
        "  </thead>\n",
        "  <tbody>\n",
        "    <tr>\n",
        "      <th>0</th>\n",
        "      <td> {u'Alcohol': u'full_bar', u'Noise Level': u'av...</td>\n",
        "      <td> mxrXVZWc6PWk81gvOVNOUw</td>\n",
        "      <td>     [American (Traditional), Restaurants]</td>\n",
        "      <td> Scottsdale</td>\n",
        "      <td> 4800 N Scottsdale Rd\\nSte 1700\\nScottsdale, AZ...</td>\n",
        "      <td> {u'Monday': {u'close': u'23:00', u'open': u'16...</td>\n",
        "      <td> 33.508695</td>\n",
        "      <td>-111.927080</td>\n",
        "      <td>              Roaring Fork</td>\n",
        "      <td> []</td>\n",
        "      <td> True</td>\n",
        "      <td> 463</td>\n",
        "      <td> 4.0</td>\n",
        "      <td> AZ</td>\n",
        "      <td> 2014-01-09 00:00:00</td>\n",
        "      <td> 6fCJWrPiNmzOeqHccc7BUw</td>\n",
        "      <td> 5</td>\n",
        "      <td> Awesome decor, great service, hidden gem in Sc...</td>\n",
        "      <td> jE5xVugujSaskAoh2DRx3Q</td>\n",
        "      <td> {u'funny': 0, u'useful': 0, u'cool': 0}</td>\n",
        "      <td> 3.65</td>\n",
        "      <td> {u'note': 1, u'funny': 1, u'writer': 2, u'plai...</td>\n",
        "      <td> []</td>\n",
        "      <td> 0</td>\n",
        "      <td> [5Fd93L51CcW9oiJxPPfgEQ, eKTZv1upkNLR5X2HSNd1f...</td>\n",
        "      <td>     S</td>\n",
        "      <td> 225</td>\n",
        "      <td> {u'funny': 36, u'useful': 135, u'cool': 29}</td>\n",
        "      <td> 2011-02</td>\n",
        "      <td> 2014-01-10 00:00:00</td>\n",
        "      <td> 0</td>\n",
        "      <td>        One of the best restaurants in Scottsdale.</td>\n",
        "    </tr>\n",
        "    <tr>\n",
        "      <th>1</th>\n",
        "      <td> {u'Alcohol': u'beer_and_wine', u'Noise Level':...</td>\n",
        "      <td> z3yFuLVrmH-3RJruPEMYKw</td>\n",
        "      <td> [Delis, Restaurants, Sandwiches, Italian]</td>\n",
        "      <td> Scottsdale</td>\n",
        "      <td> 2334 N Scottsdale Rd\\nSte A133\\nScottsdale, AZ...</td>\n",
        "      <td> {u'Monday': {u'close': u'21:00', u'open': u'10...</td>\n",
        "      <td> 33.474068</td>\n",
        "      <td>-111.927033</td>\n",
        "      <td> Defalco's Italian Grocery</td>\n",
        "      <td> []</td>\n",
        "      <td> True</td>\n",
        "      <td> 469</td>\n",
        "      <td> 4.5</td>\n",
        "      <td> AZ</td>\n",
        "      <td> 2010-08-08 00:00:00</td>\n",
        "      <td> 30yHYeC5uCeMB9lHU81EBQ</td>\n",
        "      <td> 5</td>\n",
        "      <td> I have been going to DeFalco's since 1984 when...</td>\n",
        "      <td> QnhQ8G51XbUpVEyWY2Km-A</td>\n",
        "      <td> {u'funny': 0, u'useful': 1, u'cool': 1}</td>\n",
        "      <td> 4.25</td>\n",
        "      <td>                                                {}</td>\n",
        "      <td> []</td>\n",
        "      <td> 0</td>\n",
        "      <td>                                                []</td>\n",
        "      <td> David</td>\n",
        "      <td>  11</td>\n",
        "      <td>    {u'funny': 0, u'useful': 18, u'cool': 4}</td>\n",
        "      <td> 2009-08</td>\n",
        "      <td> 2011-09-05 00:00:00</td>\n",
        "      <td> 0</td>\n",
        "      <td> DeFalco's has a new pizza crust recipe, and no...</td>\n",
        "    </tr>\n",
        "    <tr>\n",
        "      <th>2</th>\n",
        "      <td> {u'Alcohol': u'beer_and_wine', u'Noise Level':...</td>\n",
        "      <td> z3yFuLVrmH-3RJruPEMYKw</td>\n",
        "      <td> [Delis, Restaurants, Sandwiches, Italian]</td>\n",
        "      <td> Scottsdale</td>\n",
        "      <td> 2334 N Scottsdale Rd\\nSte A133\\nScottsdale, AZ...</td>\n",
        "      <td> {u'Monday': {u'close': u'21:00', u'open': u'10...</td>\n",
        "      <td> 33.474068</td>\n",
        "      <td>-111.927033</td>\n",
        "      <td> Defalco's Italian Grocery</td>\n",
        "      <td> []</td>\n",
        "      <td> True</td>\n",
        "      <td> 469</td>\n",
        "      <td> 4.5</td>\n",
        "      <td> AZ</td>\n",
        "      <td> 2010-08-08 00:00:00</td>\n",
        "      <td> 30yHYeC5uCeMB9lHU81EBQ</td>\n",
        "      <td> 5</td>\n",
        "      <td> I have been going to DeFalco's since 1984 when...</td>\n",
        "      <td> QnhQ8G51XbUpVEyWY2Km-A</td>\n",
        "      <td> {u'funny': 0, u'useful': 1, u'cool': 1}</td>\n",
        "      <td> 4.25</td>\n",
        "      <td>                                                {}</td>\n",
        "      <td> []</td>\n",
        "      <td> 0</td>\n",
        "      <td>                                                []</td>\n",
        "      <td> David</td>\n",
        "      <td>  11</td>\n",
        "      <td>    {u'funny': 0, u'useful': 18, u'cool': 4}</td>\n",
        "      <td> 2009-08</td>\n",
        "      <td> 2011-10-08 00:00:00</td>\n",
        "      <td> 0</td>\n",
        "      <td> Try the cappacola, hard salami, provolone sand...</td>\n",
        "    </tr>\n",
        "  </tbody>\n",
        "</table>\n",
        "</div>"
       ],
       "metadata": {},
       "output_type": "pyout",
       "prompt_number": 8,
       "text": [
        "                                          attributes             business_id  \\\n",
        "0  {u'Alcohol': u'full_bar', u'Noise Level': u'av...  mxrXVZWc6PWk81gvOVNOUw   \n",
        "1  {u'Alcohol': u'beer_and_wine', u'Noise Level':...  z3yFuLVrmH-3RJruPEMYKw   \n",
        "2  {u'Alcohol': u'beer_and_wine', u'Noise Level':...  z3yFuLVrmH-3RJruPEMYKw   \n",
        "\n",
        "                                  categories        city  \\\n",
        "0      [American (Traditional), Restaurants]  Scottsdale   \n",
        "1  [Delis, Restaurants, Sandwiches, Italian]  Scottsdale   \n",
        "2  [Delis, Restaurants, Sandwiches, Italian]  Scottsdale   \n",
        "\n",
        "                                        full_address  \\\n",
        "0  4800 N Scottsdale Rd\\nSte 1700\\nScottsdale, AZ...   \n",
        "1  2334 N Scottsdale Rd\\nSte A133\\nScottsdale, AZ...   \n",
        "2  2334 N Scottsdale Rd\\nSte A133\\nScottsdale, AZ...   \n",
        "\n",
        "                                               hours   latitude   longitude  \\\n",
        "0  {u'Monday': {u'close': u'23:00', u'open': u'16...  33.508695 -111.927080   \n",
        "1  {u'Monday': {u'close': u'21:00', u'open': u'10...  33.474068 -111.927033   \n",
        "2  {u'Monday': {u'close': u'21:00', u'open': u'10...  33.474068 -111.927033   \n",
        "\n",
        "               business_name neighborhoods  open  business_review_count  \\\n",
        "0               Roaring Fork            []  True                    463   \n",
        "1  Defalco's Italian Grocery            []  True                    469   \n",
        "2  Defalco's Italian Grocery            []  True                    469   \n",
        "\n",
        "   business_stars state          review_date               review_id  \\\n",
        "0             4.0    AZ  2014-01-09 00:00:00  6fCJWrPiNmzOeqHccc7BUw   \n",
        "1             4.5    AZ  2010-08-08 00:00:00  30yHYeC5uCeMB9lHU81EBQ   \n",
        "2             4.5    AZ  2010-08-08 00:00:00  30yHYeC5uCeMB9lHU81EBQ   \n",
        "\n",
        "   review_stars                                        review_text  \\\n",
        "0             5  Awesome decor, great service, hidden gem in Sc...   \n",
        "1             5  I have been going to DeFalco's since 1984 when...   \n",
        "2             5  I have been going to DeFalco's since 1984 when...   \n",
        "\n",
        "                  user_id                             review_votes  \\\n",
        "0  jE5xVugujSaskAoh2DRx3Q  {u'funny': 0, u'useful': 0, u'cool': 0}   \n",
        "1  QnhQ8G51XbUpVEyWY2Km-A  {u'funny': 0, u'useful': 1, u'cool': 1}   \n",
        "2  QnhQ8G51XbUpVEyWY2Km-A  {u'funny': 0, u'useful': 1, u'cool': 1}   \n",
        "\n",
        "   average_stars                                        compliments elite  \\\n",
        "0           3.65  {u'note': 1, u'funny': 1, u'writer': 2, u'plai...    []   \n",
        "1           4.25                                                 {}    []   \n",
        "2           4.25                                                 {}    []   \n",
        "\n",
        "   fans                                            friends user_name  \\\n",
        "0     0  [5Fd93L51CcW9oiJxPPfgEQ, eKTZv1upkNLR5X2HSNd1f...         S   \n",
        "1     0                                                 []     David   \n",
        "2     0                                                 []     David   \n",
        "\n",
        "   user_review_count                                   user_votes  \\\n",
        "0                225  {u'funny': 36, u'useful': 135, u'cool': 29}   \n",
        "1                 11     {u'funny': 0, u'useful': 18, u'cool': 4}   \n",
        "2                 11     {u'funny': 0, u'useful': 18, u'cool': 4}   \n",
        "\n",
        "  yelping_since             tip_date  likes  \\\n",
        "0       2011-02  2014-01-10 00:00:00      0   \n",
        "1       2009-08  2011-09-05 00:00:00      0   \n",
        "2       2009-08  2011-10-08 00:00:00      0   \n",
        "\n",
        "                                            tip_text  \n",
        "0         One of the best restaurants in Scottsdale.  \n",
        "1  DeFalco's has a new pizza crust recipe, and no...  \n",
        "2  Try the cappacola, hard salami, provolone sand...  "
       ]
      }
     ],
     "prompt_number": 8
    },
    {
     "cell_type": "code",
     "collapsed": false,
     "input": [
      "for x in range(3):\n",
      "    print TURBO_DF.review_text[x],os.linesep\n",
      "    "
     ],
     "language": "python",
     "metadata": {},
     "outputs": [
      {
       "output_type": "stream",
       "stream": "stdout",
       "text": [
        "Awesome decor, great service, hidden gem in Scottsdale. Delicious and unique menu. The lamb fondue was so great, the trout, salads and chicken. Interesting bread basket with an assortment of muffins and breads and a diverse dessert menu. They need something a bit more chocolate on it ;)\n",
        "Great place!  One of the best restaurants I have been to in Scottsdale!!! \n",
        "\n",
        "I have been going to DeFalco's since 1984 when they were at the old location on 68th and Thomas. I have eaten at other Italian delis all over the Valley but this place has no rivals. The quality of the food is excellent, and the staff gets to know all of the customers as they continue to return. I highly recommend the Purista, CHP, cheese steak, Margerite pizza, the Tim's Special pizza, and the soups. Go for Italian items - they can't be beat. The wine selection is also fantastic. Tony DeFalco, the owner, tries every single wine before putting a bottle on the shelves, and he has fantastic wines from a number of regions. I can't say enough about this place. I eat here at least three times a week and have for many years. Healthy and delicious. Make sure to call orders in ahead as this place gets really busy. DeFalco's is a true desert classic with 100 year old recipes, some of friendliest staff around, and a dedication to excellence. \n",
        "\n",
        "I have been going to DeFalco's since 1984 when they were at the old location on 68th and Thomas. I have eaten at other Italian delis all over the Valley but this place has no rivals. The quality of the food is excellent, and the staff gets to know all of the customers as they continue to return. I highly recommend the Purista, CHP, cheese steak, Margerite pizza, the Tim's Special pizza, and the soups. Go for Italian items - they can't be beat. The wine selection is also fantastic. Tony DeFalco, the owner, tries every single wine before putting a bottle on the shelves, and he has fantastic wines from a number of regions. I can't say enough about this place. I eat here at least three times a week and have for many years. Healthy and delicious. Make sure to call orders in ahead as this place gets really busy. DeFalco's is a true desert classic with 100 year old recipes, some of friendliest staff around, and a dedication to excellence. \n",
        "\n"
       ]
      }
     ],
     "prompt_number": 9
    },
    {
     "cell_type": "markdown",
     "metadata": {},
     "source": [
      "We're interested in predicting the number of stars given based on the text, so we drop most other columns.  tip_text is kept because it should prove to be interesting to look at.  "
     ]
    },
    {
     "cell_type": "code",
     "collapsed": false,
     "input": [
      "toDrop = [0,1,2,3,4,5,6,7,8,9,10,11,12,13,14,15,18,19,20,21,22,23,24,25,26,27,28,29,30]\n",
      "print toDrop\n",
      "TURBO_DF.drop(TURBO_DF.columns[toDrop], axis = 1, inplace = True)\n",
      "TURBO_DF.head(1)"
     ],
     "language": "python",
     "metadata": {},
     "outputs": [
      {
       "output_type": "stream",
       "stream": "stdout",
       "text": [
        "[0, 1, 2, 3, 4, 5, 6, 7, 8, 9, 10, 11, 12, 13, 14, 15, 18, 19, 20, 21, 22, 23, 24, 25, 26, 27, 28, 29, 30]\n"
       ]
      },
      {
       "html": [
        "<div style=\"max-height:1000px;max-width:1500px;overflow:auto;\">\n",
        "<table border=\"1\" class=\"dataframe\">\n",
        "  <thead>\n",
        "    <tr style=\"text-align: right;\">\n",
        "      <th></th>\n",
        "      <th>review_stars</th>\n",
        "      <th>review_text</th>\n",
        "      <th>tip_text</th>\n",
        "    </tr>\n",
        "  </thead>\n",
        "  <tbody>\n",
        "    <tr>\n",
        "      <th>0</th>\n",
        "      <td> 5</td>\n",
        "      <td> Awesome decor, great service, hidden gem in Sc...</td>\n",
        "      <td> One of the best restaurants in Scottsdale.</td>\n",
        "    </tr>\n",
        "  </tbody>\n",
        "</table>\n",
        "</div>"
       ],
       "metadata": {},
       "output_type": "pyout",
       "prompt_number": 10,
       "text": [
        "   review_stars                                        review_text  \\\n",
        "0             5  Awesome decor, great service, hidden gem in Sc...   \n",
        "\n",
        "                                     tip_text  \n",
        "0  One of the best restaurants in Scottsdale.  "
       ]
      }
     ],
     "prompt_number": 10
    },
    {
     "cell_type": "code",
     "collapsed": false,
     "input": [
      "# good tutorial -\n",
      "# www.cs.duke.edu/courses/spring14/compsci290/assignments/lab02.html\n",
      "POSITIVE_WORDS = set([line.strip() for line in open('positive-words.txt', 'r')])\n",
      "NEGATIVE_WORDS = set([line.strip() for line in open('negative-words.txt', 'r')])\n",
      "NLTK_STOPWORDS = set(stopwords.words('english'))\n",
      "MORE_STOPWORDS = set([line.strip() for line in open('more_stopwords.txt', 'r')])\n",
      "\n",
      "#lower case, removes punctuation, tokenizes, and \n",
      "def lowercase_remove_punctuation_and_tokenize(s):\n",
      "    s = s.lower()\n",
      "    s = s.translate(None, string.punctuation)\n",
      "    token_list = nltk.word_tokenize(s)\n",
      "    exclude_stopwords = lambda token : token not in NLTK_STOPWORDS\n",
      "    return filter(exclude_stopwords, token_list)\n",
      "\n",
      "def preProcess(s):#sub_dataframe):\n",
      "    #s = sub_dataframe.review_text.sum()\n",
      "    return ' '.join(lowercase_remove_punctuation_and_tokenize(s))"
     ],
     "language": "python",
     "metadata": {},
     "outputs": [],
     "prompt_number": 11
    },
    {
     "cell_type": "code",
     "collapsed": false,
     "input": [
      "initial_features = ['review_stars', 'review_text']\n",
      "TURBO_features = TURBO_DF[initial_features]\n",
      "TURBO_features.review_text.apply(str) \n",
      "TURBO_features['review_text_preprocessed'] = TURBO_features.review_text.apply(preProcess)"
     ],
     "language": "python",
     "metadata": {},
     "outputs": [],
     "prompt_number": 12
    },
    {
     "cell_type": "code",
     "collapsed": false,
     "input": [
      "tokenized = TURBO_features.review_text_preprocessed\n",
      "print tokenized.shape\n",
      "tokenized.head()"
     ],
     "language": "python",
     "metadata": {},
     "outputs": [
      {
       "output_type": "stream",
       "stream": "stdout",
       "text": [
        "(36824,)\n"
       ]
      },
      {
       "metadata": {},
       "output_type": "pyout",
       "prompt_number": 13,
       "text": [
        "0    awesome decor great service hidden gem scottsd...\n",
        "1    going defalcos since 1984 old location 68th th...\n",
        "2    going defalcos since 1984 old location 68th th...\n",
        "3    going defalcos since 1984 old location 68th th...\n",
        "4    defalcos slowly perfecting pizza recipe last c...\n",
        "Name: review_text_preprocessed, dtype: object"
       ]
      }
     ],
     "prompt_number": 13
    },
    {
     "cell_type": "code",
     "collapsed": false,
     "input": [
      "tokenized.ratings = 1;\n",
      "print type(tokenized)\n",
      "print \"dim\", tokenized.ndim\n",
      "from sklearn.cross_validation import train_test_split\n",
      "train_X, test_X, train_y, test_y = train_test_split(tokenized, TURBO_features.review_stars, test_size=0.8)\n",
      "print train_X.shape\n",
      "print test_X.shape\n",
      "print train_y.shape"
     ],
     "language": "python",
     "metadata": {},
     "outputs": [
      {
       "output_type": "stream",
       "stream": "stdout",
       "text": [
        "<class 'pandas.core.series.Series'>\n",
        "dim 1\n",
        "(7364,)"
       ]
      },
      {
       "output_type": "stream",
       "stream": "stdout",
       "text": [
        "\n",
        "(29460,)\n",
        "(7364,)\n"
       ]
      }
     ],
     "prompt_number": 14
    },
    {
     "cell_type": "code",
     "collapsed": false,
     "input": [
      "from sklearn.feature_extraction.text import CountVectorizer\n",
      "vectorizer = CountVectorizer(analyzer = \"word\",   \n",
      "                             tokenizer = None,    \n",
      "                             preprocessor = None, \n",
      "                             stop_words = None,   \n",
      "                             max_features = 5000) \n",
      "type(vectorizer)"
     ],
     "language": "python",
     "metadata": {},
     "outputs": [
      {
       "metadata": {},
       "output_type": "pyout",
       "prompt_number": 15,
       "text": [
        "sklearn.feature_extraction.text.CountVectorizer"
       ]
      }
     ],
     "prompt_number": 15
    },
    {
     "cell_type": "code",
     "collapsed": false,
     "input": [
      "model_train = vectorizer.fit_transform(train_X)\n",
      "model_test = vectorizer.fit_transform(test_X)\n",
      "model_train, model_test"
     ],
     "language": "python",
     "metadata": {},
     "outputs": [
      {
       "metadata": {},
       "output_type": "pyout",
       "prompt_number": 16,
       "text": [
        "(<7364x5000 sparse matrix of type '<type 'numpy.int64'>'\n",
        " \twith 334687 stored elements in Compressed Sparse Row format>,\n",
        " <29460x5000 sparse matrix of type '<type 'numpy.int64'>'\n",
        " \twith 1342121 stored elements in Compressed Sparse Row format>)"
       ]
      }
     ],
     "prompt_number": 16
    },
    {
     "cell_type": "code",
     "collapsed": false,
     "input": [
      "# Take a look at the words in the vocabulary\n",
      "vocab = vectorizer.get_feature_names()\n",
      "print vocab"
     ],
     "language": "python",
     "metadata": {},
     "outputs": [
      {
       "output_type": "stream",
       "stream": "stdout",
       "text": [
        "[u'10', u'100', u'1000', u'101', u'1015', u'1020', u'107', u'10am', u'10pm', u'11', u'1130', u'11am', u'11pm', u'12', u'120', u'13', u'130', u'14', u'15', u'150', u'1520', u'16', u'17', u'18', u'19', u'199', u'19th', u'1am', u'1st', u'20', u'200', u'2000', u'2002', u'2006', u'2007', u'2010', u'2011', u'2012', u'2013', u'2014', u'21', u'215', u'22', u'225', u'23', u'24', u'247', u'25', u'250', u'27', u'28', u'299', u'2am', u'2nd', u'2pm', u'30', u'300', u'32', u'34', u'35', u'350', u'36', u'365', u'3am', u'3pm', u'3rd', u'40', u'400', u'44th', u'45', u'47', u'499', u'4pm', u'4th', u'50', u'500', u'510', u'55', u'599', u'5pm', u'5star', u'5th', u'60', u'600', u'65', u'699', u'6pm', u'70', u'70s', u'75', u'799', u'7pm', u'7th', u'80', u'800', u'80s', u'899', u'8am', u'8pm', u'90', u'900', u'90s', u'95', u'99', u'999', u'9am', u'9pm', u'ab', u'ability', u'able', u'absolute', u'absolutely', u'ac', u'accent', u'accept', u'acceptable', u'accesible', u'access', u'accessible', u'accessories', u'accident', u'accommodate', u'accommodating', u'accompanied', u'according', u'accordingly', u'account', u'accurate', u'across', u'act', u'acted', u'action', u'activities', u'acts', u'actual', u'actually', u'ad', u'adam', u'add', u'added', u'addicted', u'addicting', u'addiction', u'addictive', u'adding', u'addition', u'additional', u'additionally', u'address', u'adds', u'adequate', u'adjacent', u'admission', u'admit', u'adobo', u'adorable', u'adore', u'adult', u'adults', u'advance', u'advantage', u'adventure', u'adventurous', u'advertised', u'advertising', u'advice', u'advise', u'afford', u'affordable', u'afraid', u'afternoon', u'afternoons', u'afterwards', u'age', u'aged', u'ages', u'ago', u'agree', u'agreed', u'ah', u'ahead', u'ahhh', u'ahi', u'ahwatukee', u'aint', u'air', u'airline', u'airlines', u'airplane', u'airport', u'airports', u'airways', u'aisle', u'aisles', u'ajs', u'aka', u'al', u'alarm', u'alas', u'alaska', u'albacore', u'albeit', u'albertsons', u'alcohol', u'ale', u'alert', u'alfredo', u'alike', u'alive', u'alley', u'allow', u'allowed', u'allows', u'allyoucaneat', u'almond', u'almonds', u'almost', u'aloha', u'alone', u'along', u'alot', u'already', u'alright', u'also', u'alternative', u'although', u'alway', u'always', u'amazed', u'amazing', u'amazingly', u'amber', u'ambiance', u'ambience', u'amenities', u'america', u'american', u'americanized', u'americano', u'among', u'amongst', u'amount', u'amounts', u'ample', u'amusing', u'amy', u'andor', u'angeles', u'angry', u'angus', u'animal', u'animals', u'anniversary', u'annoyed', u'annoying', u'annual', u'another', u'answer', u'answered', u'answers', u'anthony', u'anybody', u'anyhow', u'anymore', u'anyone', u'anything', u'anytime', u'anyway', u'anyways', u'anywhere', u'aok', u'apart', u'apartment', u'apartments', u'apologized', u'apology', u'app', u'apparently', u'appeal', u'appealing', u'appear', u'appearance', u'appeared', u'appears', u'appetite', u'appetizer', u'appetizers', u'apple', u'applebees', u'apples', u'appliances', u'apply', u'appointment', u'appointments', u'appreciate', u'appreciated', u'approach', u'approached', u'appropriate', u'apps', u'appt', u'april', u'arcade', u'arcadia', u'area', u'areas', u'arena', u'arent', u'aria', u'arizona', u'arizonas', u'arm', u'aroma', u'around', u'array', u'arrival', u'arrive', u'arrived', u'arrives', u'arriving', u'art', u'artichoke', u'artisan', u'artist', u'artists', u'arts', u'artwork', u'arugula', u'asada', u'asap', u'ashley', u'asian', u'aside', u'ask', u'asked', u'asking', u'asks', u'asparagus', u'aspect', u'ass', u'assist', u'assistance', u'associate', u'assorted', u'assortment', u'assume', u'assuming', u'assured', u'astounding', u'asu', u'ate', u'atm', u'atmosphere', u'attached', u'attack', u'attempt', u'attend', u'attendant', u'attended', u'attending', u'attention', u'attentive', u'attitude', u'attraction', u'attractive', u'au', u'august', u'aunt', u'authentic', u'auto', u'automatically', u'available', u'ave', u'avenue', u'average', u'avocado', u'avoid', u'aware', u'away', u'awesome', u'awesomeness', u'awful', u'awhile', u'awkward', u'awsome', u'ayce', u'az', u'babies', u'baby', u'back', u'background', u'backwards', u'bacon', u'bad', u'bag', u'bagel', u'bagels', u'baggage', u'bags', u'baja', u'bake', u'baked', u'bakery', u'baking', u'baklava', u'balance', u'balanced', u'ball', u'ballpark', u'balls', u'ballys', u'balsamic', u'bam', u'banana', u'bananas', u'band', u'bands', u'bandung', u'bang', u'bank', u'bar', u'barbecue', u'barber', u'bare', u'barely', u'bargain', u'barista', u'baristas', u'barking', u'bars', u'bartender', u'bartenders', u'base', u'baseball', u'based', u'bashas', u'basic', u'basically', u'basics', u'basil', u'basis', u'basket', u'basketball', u'bass', u'batch', u'bath', u'bathroom', u'bathrooms', u'batter', u'battered', u'battery', u'bay', u'bbq', u'bc', u'bday', u'beach', u'bean', u'beans', u'bear', u'bears', u'beat', u'beaten', u'beats', u'beautiful', u'beautifully', u'beauty', u'became', u'become', u'becomes', u'becoming', u'bed', u'bedroom', u'beds', u'beef', u'beer', u'beers', u'began', u'begin', u'beginners', u'beginning', u'begins', u'behind', u'belgian', u'believe', u'bell', u'bellagio', u'belly', u'belt', u'benedict', u'benefit', u'benefits', u'bento', u'besides', u'best', u'bet', u'better', u'beverage', u'beverages', u'beware', u'beyond', u'bf', u'bianco', u'biased', u'biersch', u'big', u'bigger', u'biggest', u'biggie', u'bike', u'bikes', u'bikram', u'bill', u'bills', u'biltmore', u'bingo', u'bird', u'birds', u'birthday', u'birthdays', u'biscuit', u'biscuits', u'bistro', u'bit', u'bitch', u'bite', u'bites', u'bits', u'bitter', u'bk', u'black', u'blackjack', u'blah', u'blame', u'bland', u'blanket', u'blaring', u'blast', u'blend', u'blended', u'bleu', u'blew', u'block', u'blocking', u'blocks', u'blood', u'bloody', u'blossom', u'blow', u'blown', u'blows', u'blt', u'blue', u'blueberry', u'blvd', u'bo', u'boa', u'board', u'boarding', u'bob', u'boba', u'bobbie', u'bobby', u'body', u'boiled', u'bold', u'bomb', u'bone', u'boneless', u'bonus', u'boo', u'book', u'booked', u'booking', u'books', u'boom', u'boot', u'booth', u'booths', u'boots', u'booze', u'border', u'bored', u'boring', u'born', u'boss', u'boston', u'bother', u'bothered', u'bottle', u'bottled', u'bottles', u'bottom', u'bottomless', u'bought', u'boulder', u'boutique', u'bowl', u'bowling', u'bowls', u'box', u'boxes', u'boy', u'boyfriend', u'boyfriends', u'boys', u'braised', u'brake', u'brakes', u'branch', u'brand', u'brands', u'bread', u'breaded', u'breading', u'breads', u'breadsticks', u'break', u'breakfast', u'breakfasts', u'breaking', u'breaks', u'breast', u'breath', u'breeze', u'brew', u'brewed', u'brewery', u'brewing', u'brews', u'brick', u'brie', u'brief', u'bright', u'bring', u'bringing', u'brings', u'brioche', u'brisket', u'british', u'broccoli', u'broke', u'broken', u'brooklyn', u'broth', u'brother', u'brothers', u'brought', u'brouwerij', u'brown', u'brownie', u'brownies', u'browns', u'browse', u'brulee', u'brunch', u'bruschetta', u'bs', u'btw', u'bubble', u'buck', u'bucket', u'bucks', u'bud', u'buddies', u'buddy', u'budget', u'buds', u'buffalo', u'buffet', u'buffets', u'bugs', u'build', u'building', u'buildings', u'built', u'bulgogi', u'bulk', u'bummed', u'bummer', u'bump', u'bums', u'bun', u'bunch', u'buns', u'burger', u'burgers', u'burn', u'burned', u'burning', u'burnt', u'burrito', u'burritos', u'burro', u'bus', u'busier', u'busiest', u'business', u'businesses', u'busy', u'butcher', u'butt', u'butter', u'buttered', u'buttermilk', u'buttery', u'button', u'buy', u'buying', u'buzz', u'ca', u'cab', u'cabbage', u'cable', u'cactus', u'caesar', u'caesars', u'cafe', u'caffeine', u'caf\\xe9', u'cajun', u'cake', u'cakes', u'cal', u'calamari', u'cali', u'california', u'call', u'called', u'calling', u'calls', u'calm', u'calories', u'calzones', u'came', u'camelback', u'camera', u'camper', u'campus', u'candle', u'candy', u'canned', u'cans', u'cant', u'canyon', u'caprese', u'car', u'caramel', u'caramelized', u'carb', u'carbs', u'card', u'cardio', u'cards', u'care', u'cared', u'careful', u'carefully', u'cares', u'caring', u'carlo', u'carne', u'carnitas', u'carousel', u'carpet', u'carried', u'carries', u'carrot', u'carrots', u'carry', u'carrying', u'cars', u'cart', u'carte', u'carts', u'casa', u'case', u'cases', u'casey', u'cash', u'cashier', u'cashiers', u'casino', u'casinos', u'casual', u'cat', u'catch', u'cater', u'catered', u'catering', u'catfish', u'cats', u'caught', u'cause', u'caused', u'caviar', u'ceiling', u'ceilings', u'celebrate', u'celebrated', u'celebrating', u'celebrity', u'celery', u'cell', u'cellar', u'cent', u'center', u'centers', u'central', u'cents', u'certain', u'certainly', u'certificate', u'ceviche', u'cha', u'chai', u'chain', u'chains', u'chair', u'chairs', u'challenge', u'champagne', u'chance', u'chances', u'chandler', u'change', u'changed', u'changes', u'changing', u'changs', u'channel', u'chaos', u'chaotic', u'char', u'character', u'characters', u'charge', u'charged', u'charges', u'charging', u'charity', u'charleston', u'charlies', u'charm', u'charming', u'chase', u'chat', u'chatting', u'chatty', u'cheap', u'cheaper', u'cheapest', u'check', u'checked', u'checkin', u'checking', u'checkout', u'checks', u'cheddar', u'cheerful', u'cheers', u'cheese', u'cheeseburger', u'cheesecake', u'cheeses', u'cheesesteak', u'cheesy', u'chef', u'chefs', u'cherry', u'chewy', u'chic', u'chicago', u'chick', u'chicken', u'child', u'childhood', u'children', u'childrens', u'chile', u'chiles', u'chili', u'chilis', u'chill', u'chilled', u'chimichanga', u'china', u'chinatown', u'chinese', u'chip', u'chipotle', u'chips', u'chiropractor', u'chocolate', u'chocolates', u'choice', u'choices', u'chompies', u'choose', u'choosing', u'chop', u'chopped', u'chops', u'chorizo', u'chose', u'chow', u'chowder', u'chris', u'christian', u'christmas', u'chuck', u'chunks', u'chunky', u'church', u'ciabatta', u'cider', u'cigar', u'cigarette', u'cigars', u'cilantro', u'cinnamon', u'circle', u'circus', u'cities', u'citrus', u'city', u'claim', u'clam', u'clams', u'class', u'classes', u'classic', u'classics', u'classy', u'clean', u'cleaned', u'cleaner', u'cleaners', u'cleanest', u'cleaning', u'cleanliness', u'clear', u'clearance', u'clearly', u'clerk', u'client', u'clientele', u'clients', u'climbing', u'clinic', u'close', u'closed', u'closer', u'closes', u'closest', u'closet', u'closing', u'clothes', u'clothing', u'club', u'clubhouse', u'clubs', u'clue', u'cmon', u'co', u'coach', u'coast', u'coaster', u'coat', u'cobbler', u'cocktail', u'cocktails', u'coco', u'coconut', u'cod', u'code', u'coffee', u'coke', u'cold', u'cole', u'coleslaw', u'collection', u'college', u'color', u'colored', u'colorful', u'colors', u'coma', u'combination', u'combinations', u'combined', u'combo', u'come', u'comedy', u'comes', u'comfort', u'comfortable', u'comforting', u'comfy', u'comic', u'coming', u'comment', u'commented', u'comments', u'commercial', u'commit', u'common', u'community', u'comp', u'companion', u'company', u'comparable', u'compare', u'compared', u'comparing', u'comparison', u'comped', u'compete', u'competition', u'competitive', u'complain', u'complained', u'complaining', u'complaint', u'complaints', u'complete', u'completely', u'complex', u'compliment', u'complimentary', u'complimented', u'compliments', u'computer', u'con', u'concept', u'concern', u'concerned', u'concerns', u'concert', u'concession', u'concessions', u'conclusion', u'condiments', u'condition', u'conditioning', u'condo', u'cone', u'cones', u'conference', u'confirm', u'confused', u'confusing', u'connect', u'connected', u'connection', u'cons', u'consider', u'considered', u'considering', u'consisted', u'consistency', u'consistent', u'consistently', u'constant', u'constantly', u'construction', u'consumed', u'contact', u'container', u'contemporary', u'content', u'continental', u'continue', u'continued', u'continues', u'contract', u'contrast', u'control', u'convenience', u'convenient', u'conveniently', u'convention', u'conversation', u'conversations', u'convinced', u'cook', u'cooked', u'cookie', u'cookies', u'cooking', u'cooks', u'cool', u'cooler', u'coolest', u'copy', u'core', u'corey', u'corn', u'cornbread', u'corned', u'corner', u'cornerstone', u'corporate', u'corps', u'correct', u'correctly', u'cost', u'costco', u'costs', u'costume', u'costumes', u'couch', u'couches', u'could', u'couldnt', u'couldve', u'count', u'counter', u'counters', u'countless', u'country', u'couple', u'couples', u'coupon', u'coupons', u'course', u'courses', u'court', u'courteous', u'courtesy', u'courts', u'courtyard', u'cous', u'cousin', u'cover', u'covered', u'covers', u'cow', u'cowboy', u'coworker', u'coworkers', u'cozy', u'crab', u'crack', u'cracked', u'cracker', u'craft', u'cramped', u'cranberry', u'cranky', u'crap', u'crappy', u'craps', u'crave', u'craving', u'cravings', u'crazy', u'cream', u'creamy', u'create', u'created', u'creating', u'creations', u'creative', u'credit', u'creek', u'creepy', u'creme', u'crepes', u'crew', u'crisp', u'crispy', u'croissant', u'croissants', u'cross', u'crowd', u'crowded', u'crowds', u'crown', u'crunch', u'crunchy', u'crust', u'crusted', u'cry', u'crying', u'csn', u'cuban', u'cucumber', u'cucumbers', u'cuisine', u'culinary', u'culture', u'cup', u'cups', u'curb', u'curbside', u'curds', u'cure', u'current', u'currently', u'curries', u'curry', u'custard', u'custom', u'customer', u'customers', u'customize', u'cut', u'cute', u'cuts', u'cutting', u'cuz', u'cvs', u'da', u'dad', u'daily', u'dairy', u'damage', u'damn', u'dance', u'dances', u'dancing', u'dang', u'dangerous', u'dare', u'dark', u'darn', u'darts', u'date', u'dated', u'dates', u'daughter', u'daughters', u'dave', u'day', u'days', u'de', u'dead', u'deal', u'dealer', u'dealers', u'dealership', u'dealing', u'deals', u'dear', u'death', u'debit', u'decadent', u'decades', u'decatur', u'december', u'decent', u'decently', u'decide', u'decided', u'deciding', u'decision', u'deck', u'decor', u'decorated', u'decorations', u'dedicated', u'deep', u'def', u'defalcos', u'definately', u'definite', u'definitely', u'degree', u'degrees', u'del', u'delay', u'delayed', u'delectable', u'deli', u'delicate', u'delicious', u'deliciously', u'deliciousness', u'delight', u'delightful', u'delish', u'deliver', u'delivered', u'delivers', u'delivery', u'deluxe', u'demand', u'dennys', u'dentist', u'denver', u'department', u'departure', u'depending', u'depends', u'deposit', u'depot', u'describe', u'described', u'description', u'desert', u'deserve', u'deserves', u'design', u'designed', u'designer', u'desire', u'desired', u'desk', u'despite', u'dessert', u'desserts', u'destination', u'detail', u'detailed', u'details', u'deter', u'developed', u'diamond', u'diced', u'didnt', u'die', u'died', u'diego', u'diet', u'difference', u'different', u'difficult', u'dig', u'digital', u'digress', u'dillards', u'dim', u'dine', u'dined', u'diner', u'diners', u'dingy', u'dining', u'dinner', u'dinners', u'dinning', u'dip', u'dipped', u'dipping', u'dips', u'directed', u'direction', u'directions', u'directly', u'dirt', u'dirty', u'disappoint', u'disappointed', u'disappointing', u'disappointment', u'disappoints', u'discount', u'discounted', u'discounts', u'discover', u'discovered', u'disgusting', u'dish', u'dishes', u'dislike', u'disneyland', u'display', u'displayed', u'displays', u'distance', u'distractions', u'dive', u'diverse', u'divey', u'divine', u'dj', u'doctor', u'doctors', u'doesnt', u'dog', u'dogs', u'dollar', u'dollars', u'domestic', u'done', u'dont', u'donut', u'donuts', u'door', u'doors', u'doritos', u'dos', u'double', u'doubt', u'dough', u'doughnuts', u'downhill', u'downside', u'downstairs', u'downtown', u'dozen', u'dozens', u'dr', u'draft', u'drag', u'dragon', u'drank', u'draw', u'dream', u'dreams', u'dress', u'dressed', u'dresses', u'dressing', u'drew', u'dried', u'drink', u'drinker', u'drinking', u'drinks', u'drive', u'driven', u'driver', u'drivers', u'drivethru', u'driving', u'drizzle', u'drop', u'dropped', u'dropping', u'drove', u'drunk', u'drunken', u'dry', u'dryer', u'duck', u'dude', u'dudes', u'due', u'duke', u'dumb', u'dump', u'dumplings', u'dust', u'duty', u'dying', u'eager', u'ear', u'earlier', u'early', u'earn', u'earned', u'ears', u'earth', u'ease', u'easier', u'easiest', u'easily', u'east', u'eastern', u'easy', u'eat', u'eaten', u'eater', u'eateries', u'eaters', u'eatery', u'eating', u'eats', u'eclectic', u'economy', u'edamame', u'edge', u'edible', u'education', u'eel', u'effect', u'efficient', u'efficiently', u'effort', u'egg', u'eggplant', u'eggrolls', u'eggs', u'eh', u'eiffel', u'eight', u'einsteins', u'either', u'el', u'elderly', u'electronic', u'electronics', u'elegant', u'elevator', u'elevators', u'elite', u'elliptical', u'ellis', u'else', u'elsewhere', u'elvis', u'em', u'email', u'emergency', u'empanadas', u'employee', u'employees', u'empty', u'en', u'enchilada', u'enchiladas', u'encina', u'encore', u'encountered', u'encourage', u'encouraging', u'end', u'ended', u'ending', u'endless', u'ends', u'energy', u'engaging', u'engine', u'english', u'enjoy', u'enjoyable', u'enjoyed', u'enjoying', u'enjoys', u'enormous', u'enough', u'ensure', u'enter', u'entered', u'entering', u'entertain', u'entertained', u'entertaining', u'entertainment', u'entire', u'entirely', u'entrance', u'entrances', u'entree', u'entrees', u'entry', u'entr\\xe9e', u'environment', u'epic', u'equally', u'equipment', u'equipped', u'equivalent', u'er', u'eric', u'escape', u'escargot', u'especially', u'espresso', u'essentially', u'establishment', u'establishments', u'etc', u'european', u'even', u'evening', u'evenings', u'event', u'events', u'eventually', u'ever', u'every', u'everybody', u'everyday', u'everyone', u'everyones', u'everything', u'everytime', u'everywhere', u'ew', u'ex', u'exact', u'exactly', u'exam', u'example', u'excalibur', u'excellent', u'except', u'exception', u'exceptional', u'exceptionally', u'excessive', u'exchange', u'excited', u'excitement', u'exciting', u'excuse', u'excuses', u'exercise', u'exercising', u'exhibit', u'exhibits', u'exist', u'exists', u'exit', u'expand', u'expanded', u'expansion', u'expect', u'expectations', u'expected', u'expecting', u'expensive', u'experience', u'experienced', u'experiences', u'expert', u'explain', u'explained', u'explaining', u'explore', u'express', u'exquisite', u'extended', u'extensive', u'exterior', u'extra', u'extraordinary', u'extras', u'extremely', u'eye', u'eyebrows', u'eyes', u'fabulous', u'face', u'facebook', u'faced', u'faces', u'facial', u'facials', u'facilities', u'facility', u'facing', u'fact', u'factor', u'factory', u'fail', u'failed', u'fails', u'fair', u'fairly', u'fajita', u'fajitas', u'fake', u'falafel', u'fall', u'falls', u'familiar', u'families', u'family', u'famous', u'fan', u'fancy', u'fans', u'fantastic', u'far', u'fare', u'farm', u'farmers', u'farms', u'fashion', u'fashioned', u'fast', u'faster', u'fat', u'father', u'fatty', u'fault', u'fav', u'fave', u'faves', u'favor', u'favorite', u'favorites', u'favs', u'fear', u'feast', u'feature', u'featured', u'features', u'february', u'fed', u'fee', u'feed', u'feel', u'feeling', u'feels', u'fees', u'feet', u'fell', u'fellow', u'felt', u'female', u'festival', u'festive', u'feta', u'fiance', u'field', u'fields', u'fiesta', u'fig', u'fight', u'figure', u'figured', u'figures', u'figuring', u'filet', u'filipino', u'fill', u'filled', u'filling', u'fills', u'film', u'films', u'filthy', u'final', u'finally', u'find', u'finding', u'fine', u'finest', u'finger', u'fingers', u'finish', u'finished', u'finishing', u'fire', u'fired', u'firefly', u'fireplace', u'firestone', u'firm', u'first', u'fish', u'fishy', u'fit', u'fitness', u'fits', u'fitting', u'five', u'fix', u'fixed', u'flag', u'flagged', u'flaky', u'flamingo', u'flan', u'flat', u'flavor', u'flavored', u'flavorful', u'flavorless', u'flavors', u'flay', u'flays', u'flew', u'flight', u'flights', u'floor', u'floors', u'flour', u'flow', u'flower', u'flowers', u'flowing', u'flown', u'fluffy', u'fly', u'flying', u'foam', u'focus', u'focused', u'foie', u'folks', u'follow', u'followed', u'following', u'fond', u'food', u'foodie', u'foods', u'fool', u'foot', u'football', u'forced', u'forcing', u'forever', u'forget', u'forgive', u'forgot', u'forgotten', u'fork', u'form', u'former', u'forth', u'fortunate', u'fortunately', u'fortune', u'forward', u'found', u'fountain', u'fountains', u'four', u'frames', u'francisco', u'frank', u'frankly', u'freakin', u'freaking', u'free', u'freeway', u'freezer', u'fremont', u'french', u'frequent', u'frequently', u'fresh', u'fresher', u'freshest', u'freshly', u'freshness', u'friday', u'fridays', u'fridge', u'fried', u'friend', u'friendliest', u'friendliness', u'friendly', u'friends', u'fries', u'fritter', u'front', u'frozen', u'fruit', u'fruits', u'fruity', u'frustrated', u'frustrating', u'fry', u'frys', u'ft', u'fuck', u'fucking', u'fudge', u'full', u'fully', u'fun', u'fundido', u'funky', u'funny', u'furniture', u'future', u'fyi', u'gai', u'gal', u'gallo', u'gallon', u'galore', u'gamble', u'gambling', u'game', u'games', u'gaming', u'garage', u'garbage', u'garden', u'garlic', u'gas', u'gate', u'gates', u'gave', u'gay', u'gear', u'gel', u'gelato', u'gem', u'gems', u'general', u'generally', u'generic', u'generous', u'genius', u'gentleman', u'gentlemen', u'genuine', u'genuinely', u'george', u'german', u'get', u'gets', u'getting', u'gf', u'ghetto', u'ghost', u'giant', u'gift', u'gifts', u'gigantic', u'gilbert', u'ginger', u'gingerbread', u'ginormous', u'girl', u'girlfriend', u'girls', u'give', u'given', u'gives', u'giving', u'glad', u'gladly', u'glance', u'glass', u'glasses', u'glaze', u'glazed', u'glendale', u'gluten', u'glutenfree', u'go', u'goal', u'goat', u'god', u'gods', u'goes', u'going', u'gold', u'golden', u'golf', u'gon', u'gone', u'good', u'goodies', u'goodness', u'goods', u'gooey', u'google', u'gordon', u'gorgeous', u'gosh', u'got', u'goto', u'gotten', u'gourmet', u'grab', u'grabbed', u'grabbing', u'gracious', u'grade', u'grain', u'grand', u'grande', u'grandma', u'grandmas', u'granted', u'grape', u'gras', u'grass', u'grateful', u'gratuity', u'gravy', u'grease', u'greasy', u'great', u'greatest', u'greatland', u'greatly', u'greek', u'green', u'greens', u'greet', u'greeted', u'greeting', u'greg', u'grew', u'grill', u'grilled', u'grills', u'grimaldis', u'gripe', u'grits', u'groceries', u'grocery', u'gross', u'ground', u'grounds', u'group', u'groupon', u'groups', u'grow', u'growing', u'grown', u'grub', u'guac', u'guacamole', u'guarantee', u'guaranteed', u'guard', u'guess', u'guessing', u'guest', u'guests', u'guide', u'guilty', u'guinness', u'gum', u'gumbo', u'gun', u'guy', u'guys', u'gym', u'gyms', u'gyro', u'gyros', u'ha', u'habit', u'hadnt', u'haha', u'hair', u'haircut', u'haircuts', u'half', u'halibut', u'hall', u'halloween', u'hallways', u'ham', u'hamachi', u'hamburger', u'hamburgers', u'hand', u'handed', u'handful', u'handle', u'handled', u'handling', u'hands', u'handy', u'hang', u'hanging', u'hangout', u'hangover', u'happen', u'happened', u'happening', u'happens', u'happier', u'happily', u'happy', u'harbor', u'hard', u'harder', u'hardly', u'hardware', u'harkins', u'harley', u'harrahs', u'hash', u'hashbrowns', u'hasnt', u'hassle', u'hat', u'hate', u'hated', u'hats', u'havent', u'hawaii', u'hawaiian', u'hd', u'head', u'headed', u'heading', u'heads', u'health', u'healthier', u'healthy', u'hear', u'heard', u'hearing', u'heart', u'hearty', u'heat', u'heated', u'heater', u'heather', u'heaven', u'heavenly', u'heavy', u'heck', u'hed', u'held', u'hell', u'hella', u'hello', u'help', u'helped', u'helpful', u'helping', u'helps', u'hence', u'henderson', u'herbal', u'herbert', u'herbs', u'heres', u'hero', u'hes', u'hesitant', u'hey', u'hh', u'hi', u'hidden', u'hide', u'high', u'higher', u'highest', u'highlight', u'highlights', u'highly', u'highway', u'hikari', u'hike', u'hilarious', u'hill', u'hilton', u'hint', u'hip', u'hipster', u'hire', u'hiro', u'history', u'hit', u'hits', u'hitting', u'hmm', u'hockey', u'hold', u'holding', u'holds', u'hole', u'holes', u'holiday', u'holidays', u'hollandaise', u'hollywood', u'holy', u'home', u'homeless', u'homemade', u'homey', u'honest', u'honestly', u'honey', u'hong', u'honor', u'hood', u'hook', u'hookah', u'hooked', u'hooters', u'hop', u'hope', u'hopefully', u'hopes', u'hoping', u'hopping', u'horchata', u'horrible', u'horrific', u'horse', u'hospital', u'hospitality', u'host', u'hosted', u'hostess', u'hosts', u'hot', u'hotdog', u'hotel', u'hotels', u'hotter', u'hour', u'hours', u'house', u'housekeeping', u'housemade', u'houses', u'houstons', u'however', u'hr', u'hrs', u'hub', u'hubby', u'hue', u'huge', u'huh', u'humble', u'humidifier', u'humidity', u'hummus', u'humor', u'hundred', u'hundreds', u'hung', u'hunger', u'hungry', u'hunt', u'hurry', u'hurt', u'husband', u'husbands', u'hush', u'hut', u'hydrated', u'hype', u'ice', u'iceberg', u'iced', u'ichiza', u'icing', u'id', u'idea', u'ideal', u'ideas', u'idiot', u'idiots', u'ie', u'ignore', u'ignored', u'ihop', u'ill', u'im', u'imagine', u'imax', u'imitation', u'immediately', u'imo', u'impeccable', u'important', u'importantly', u'impossible', u'impress', u'impressed', u'impression', u'impressive', u'improve', u'improved', u'improvement', u'improvements', u'inch', u'incident', u'include', u'included', u'includes', u'including', u'inconsistent', u'inconvenience', u'incredible', u'incredibly', u'indeed', u'independent', u'india', u'indian', u'individual', u'individuals', u'indonesian', u'indoor', u'indoors', u'industry', u'inexpensive', u'info', u'information', u'informative', u'informed', u'ingredient', u'ingredients', u'initial', u'initially', u'inn', u'inner', u'inquired', u'insane', u'insanely', u'inside', u'insisted', u'inspired', u'inspite', u'instantly', u'instead', u'institution', u'instructor', u'instructors', u'insurance', u'intended', u'interact', u'interest', u'interested', u'interesting', u'interior', u'international', u'internet', u'interruption', u'intimate', u'introduced', u'inviting', u'involved', u'ipa', u'iphone', u'irish', u'iron', u'island', u'isnt', u'issue', u'issues', u'italian', u'italy', u'item', u'items', u'itll', u'ive', u'jack', u'jackpot', u'jacuzzi', u'jalapeno', u'jalapenos', u'jalape\\xf1o', u'jam', u'jamba', u'james', u'january', u'japan', u'japanese', u'jar', u'jasmine', u'jazz', u'jeans', u'jeff', u'jelly', u'jennifer', u'jerk', u'jerks', u'jerky', u'jesus', u'jewelry', u'jill', u'jim', u'jimmy', u'job', u'jobs', u'joe', u'joes', u'john', u'join', u'joined', u'joint', u'joints', u'joke', u'jokes', u'joking', u'journey', u'joy', u'jr', u'jud', u'judge', u'juice', u'juices', u'juicy', u'juke', u'jukebox', u'july', u'jumbo', u'jump', u'jumped', u'jun', u'june', u'jungle', u'junk', u'jus', u'kai', u'kalbi', u'karaoke', u'katie', u'katsu', u'kee', u'keep', u'keeping', u'keeps', u'keno', u'kept', u'ketchup', u'kettle', u'key', u'keys', u'kha', u'kick', u'kicked', u'kicking', u'kicks', u'kid', u'kidding', u'kids', u'kill', u'killed', u'killer', u'kim', u'kimchi', u'kind', u'kinda', u'kinds', u'king', u'kiosk', u'kiss', u'kitchen', u'knees', u'knew', u'knife', u'knock', u'knocked', u'knot', u'knots', u'know', u'knowing', u'knowledgable', u'knowledge', u'knowledgeable', u'known', u'knows', u'kobe', u'komol', u'komols', u'kong', u'korean', u'kreme', u'krispy', u'kudos', u'kung', u'la', u'lab', u'labor', u'lack', u'lacked', u'lacking', u'lackluster', u'lacks', u'ladies', u'lady', u'laid', u'lake', u'lamb', u'lame', u'lamp', u'land', u'landing', u'landmark', u'lane', u'lanes', u'language', u'lap', u'laptop', u'large', u'larger', u'largest', u'las', u'lasagna', u'last', u'lastly', u'late', u'lately', u'later', u'latest', u'latte', u'lattes', u'laugh', u'laughed', u'laughing', u'laundry', u'law', u'lawrys', u'lax', u'lay', u'layer', u'layers', u'layout', u'layover', u'lazy', u'lb', u'lbs', u'le', u'lead', u'leaf', u'league', u'lean', u'learn', u'learned', u'learning', u'lease', u'least', u'leather', u'leave', u'leaves', u'leaving', u'led', u'lee', u'left', u'leftover', u'leftovers', u'leg', u'legendary', u'legit', u'legs', u'lemon', u'lemonade', u'less', u'lesson', u'lessons', u'let', u'lets', u'letting', u'lettuce', u'level', u'levels', u'lgo', u'liberty', u'library', u'license', u'lie', u'life', u'lifetime', u'lift', u'light', u'lighter', u'lighting', u'lightly', u'lights', u'like', u'liked', u'likely', u'likes', u'liking', u'lil', u'lime', u'limit', u'limited', u'limits', u'limo', u'lindo', u'line', u'lined', u'lines', u'link', u'liquor', u'lisa', u'list', u'listed', u'listen', u'listened', u'listening', u'lit', u'literally', u'little', u'live', u'lived', u'lively', u'liver', u'lives', u'living', u'lo', u'load', u'loaded', u'loaf', u'lobby', u'lobster', u'local', u'locally', u'locals', u'located', u'location', u'locations', u'locked', u'locker', u'lockers', u'loco', u'lol', u'lolos', u'long', u'longer', u'longest', u'look', u'looked', u'looking', u'looks', u'loop', u'loose', u'lord', u'los', u'lose', u'losing', u'loss', u'lost', u'lot', u'lots', u'lotus', u'loud', u'lounge', u'love', u'loved', u'lovely', u'lover', u'lovers', u'loves', u'loving', u'low', u'lower', u'lowes', u'lowest', u'loyal', u'loyalty', u'luck', u'luckily', u'lucky', u'luggage', u'lulu', u'lunch', u'lunches', u'lunchtime', u'luv', u'luvit', u'lux', u'luxury', u'lv', u'lvac', u'lying', u'mac', u'macaroni', u'machaca', u'machine', u'machines', u'mackerel', u'macncheese', u'macys', u'mad', u'made', u'madison', u'madness', u'magazine', u'magazines', u'magic', u'magical', u'mahi', u'mai', u'maid', u'mail', u'main', u'mainly', u'maintained', u'maintenance', u'major', u'majority', u'make', u'maker', u'makes', u'makeup', u'making', u'male', u'mall', u'malls', u'malt', u'mama', u'man', u'manage', u'managed', u'management', u'manager', u'managers', u'mandalay', u'mango', u'mani', u'manicure', u'manner', u'many', u'maple', u'march', u'margarita', u'margaritas', u'margherita', u'maria', u'marinara', u'marinated', u'marine', u'mark', u'marked', u'market', u'marketing', u'markets', u'marriott', u'mart', u'martini', u'martinis', u'mary', u'maryland', u'masala', u'mashed', u'mass', u'massage', u'massages', u'massive', u'master', u'masterpiece', u'masters', u'match', u'matter', u'matters', u'max', u'may', u'maybe', u'mayo', u'mccarran', u'mcdonalds', u'meal', u'meals', u'mean', u'meaning', u'means', u'meant', u'meat', u'meatball', u'meatballs', u'meatloaf', u'meats', u'meaty', u'mechanic', u'medical', u'medications', u'mediocre', u'mediterranean', u'medium', u'meet', u'meeting', u'meetings', u'meets', u'meh', u'mein', u'melt', u'melted', u'melts', u'member', u'members', u'membership', u'memorabilia', u'memorable', u'memories', u'memory', u'men', u'mens', u'mentally', u'mention', u'mentioned', u'menu', u'menudo', u'menus', u'merchandise', u'merry', u'mesa', u'mess', u'message', u'messages', u'messed', u'messy', u'met', u'metal', u'metro', u'mex', u'mexican', u'mexico', u'mgm', u'mi', u'michael', u'micro', u'microwave', u'mid', u'middle', u'midnight', u'might', u'mighty', u'mignon', u'mike', u'mild', u'mile', u'miles', u'military', u'milk', u'milkshakes', u'mill', u'million', u'mimis', u'min', u'minced', u'mind', u'mine', u'mini', u'minimal', u'minimum', u'minor', u'mins', u'mint', u'minus', u'minute', u'minutes', u'mirage', u'miserable', u'miso', u'miss', u'missed', u'missing', u'mission', u'mistake', u'mistakes', u'misters', u'mix', u'mixed', u'mixture', u'mm', u'mmm', u'mmmm', u'mobile', u'mocha', u'mochi', u'mock', u'moco', u'model', u'modern', u'moist', u'mojito', u'mojitos', u'mole', u'mom', u'moment', u'moments', u'moms', u'mon', u'monday', u'mondays', u'money', u'mongolian', u'monorail', u'monster', u'monte', u'month', u'monthly', u'months', u'mood', u'moon', u'morning', u'mornings', u'mostly', u'motel', u'mother', u'mothers', u'motivate', u'motivated', u'motorcycle', u'motto', u'mountain', u'mountains', u'mouth', u'mouthwatering', u'move', u'moved', u'moves', u'movie', u'movies', u'moving', u'mozzarella', u'mr', u'mrs', u'msd', u'much', u'muffin', u'muffins', u'multiple', u'munchies', u'museum', u'mushroom', u'mushrooms', u'mushy', u'music', u'mussels', u'must', u'mustard', u'musubi', u'na', u'naan', u'nachos', u'nail', u'nails', u'naked', u'nam', u'name', u'named', u'names', u'napkins', u'narrow', u'nasty', u'national', u'native', u'natural', u'naturally', u'nature', u'navigate', u'near', u'nearby', u'nearly', u'neat', u'necessarily', u'necessary', u'neck', u'need', u'needed', u'needing', u'needless', u'needs', u'negative', u'negatives', u'neighbor', u'neighborhood', u'neighbors', u'neither', u'nellos', u'neon', u'nervous', u'network', u'nevada', u'never', u'new', u'newer', u'newest', u'newly', u'news', u'next', u'nice', u'nicely', u'nicer', u'nicest', u'night', u'nightmare', u'nights', u'nigiri', u'nine', u'nite', u'nobody', u'noise', u'noisy', u'nom', u'non', u'noncrusty', u'none', u'nonetheless', u'nonsense', u'nonsmoking', u'noodle', u'noodles', u'noon', u'nope', u'nordstrom', u'nordstroms', u'norm', u'normal', u'normally', u'north', u'northern', u'northwest', u'nose', u'nosh', u'nostalgic', u'notch', u'note', u'noted', u'notes', u'nothing', u'notice', u'noticed', u'nowhere', u'nugget', u'number', u'numerous', u'nurse', u'nut', u'nuts', u'ny', u'nyc', u'oasis', u'oatmeal', u'obsessed', u'obvious', u'obviously', u'occasion', u'occasional', u'occasionally', u'occasions', u'occupied', u'ocean', u'oclock', u'october', u'octopus', u'odd', u'odds', u'offer', u'offered', u'offering', u'offerings', u'offers', u'office', u'often', u'oh', u'ohhh', u'oil', u'oily', u'ok', u'okay', u'ol', u'old', u'older', u'oldest', u'olive', u'olives', u'omelet', u'omelets', u'omelette', u'omelettes', u'omg', u'one', u'ones', u'ongoing', u'onion', u'onions', u'online', u'onsite', u'onto', u'open', u'opened', u'opening', u'opens', u'operated', u'opinion', u'opportunity', u'opposed', u'opposite', u'opted', u'option', u'options', u'orange', u'order', u'ordered', u'ordering', u'orders', u'ordinary', u'oreganos', u'organic', u'organization', u'organized', u'orgasm', u'original', u'originally', u'orleans', u'osakas', u'others', u'otherwise', u'outback', u'outdated', u'outdoor', u'outlet', u'outlets', u'outrageous', u'outside', u'outstanding', u'outta', u'oven', u'overall', u'overcooked', u'overdue', u'overly', u'overpowering', u'overpriced', u'overs', u'overwhelmed', u'overwhelming', u'owned', u'owner', u'owners', u'ownership', u'owns', u'oyster', u'oysters', u'oz', u'pa', u'pace', u'pack', u'package', u'packages', u'packed', u'packs', u'pad', u'pads', u'page', u'paid', u'pain', u'pains', u'paint', u'painted', u'paintings', u'pair', u'paired', u'pairs', u'palace', u'palate', u'pale', u'palm', u'palms', u'pan', u'panang', u'pancake', u'pancakes', u'panda', u'pane', u'panini', u'pantry', u'pants', u'pao', u'papago', u'papaya', u'paper', u'paperwork', u'par', u'paradise', u'parents', u'paris', u'park', u'parked', u'parking', u'parm', u'parmesan', u'part', u'particular', u'particularly', u'parties', u'partner', u'parts', u'party', u'partying', u'pass', u'passed', u'passengers', u'passes', u'passing', u'passion', u'passionate', u'past', u'pasta', u'pastas', u'paste', u'pastor', u'pastrami', u'pastries', u'pastry', u'patch', u'path', u'pathetic', u'patience', u'patient', u'patients', u'patio', u'patron', u'patrons', u'patties', u'patty', u'paul', u'pawn', u'pay', u'paying', u'payment', u'pays', u'peace', u'peaceful', u'peach', u'peak', u'peaks', u'peanut', u'peanuts', u'pear', u'peas', u'pecan', u'pedi', u'pedicure', u'pedicures', u'peeps', u'pei', u'penne', u'penny', u'people', u'peoples', u'pepper', u'peppercorn', u'peppermint', u'pepperoni', u'peppers', u'pepsi', u'per', u'perfect', u'perfection', u'perfectly', u'perform', u'performance', u'performed', u'perhaps', u'period', u'permanent', u'person', u'personable', u'personal', u'personality', u'personally', u'personnel', u'persons', u'pesto', u'pet', u'peter', u'petes', u'petite', u'pets', u'pf', u'pharmacy', u'phenomenal', u'phil', u'philly', u'pho', u'phoenix', u'phone', u'phones', u'photo', u'photos', u'phx', u'physically', u'piano', u'pic', u'pick', u'picked', u'picking', u'pickle', u'pickled', u'pickles', u'pickup', u'picky', u'picnic', u'pico', u'pics', u'picture', u'pictures', u'pie', u'piece', u'pieces', u'pies', u'pig', u'pile', u'piled', u'pill', u'pillows', u'pilot', u'pineapple', u'pink', u'pint', u'pints', u'piping', u'piss', u'pissed', u'pit', u'pita', u'pitcher', u'pitchers', u'pizza', u'pizzas', u'pizzeria', u'place', u'placed', u'places', u'plain', u'plan', u'plane', u'planes', u'planet', u'planned', u'planning', u'plans', u'plants', u'plastic', u'plate', u'plates', u'platter', u'play', u'played', u'player', u'players', u'playground', u'playing', u'plays', u'plaza', u'pleasant', u'pleasantly', u'please', u'pleased', u'pleasure', u'plentiful', u'plenty', u'plethora', u'plug', u'plump', u'plus', u'pm', u'pocket', u'point', u'pointe', u'pointed', u'points', u'poker', u'police', u'policy', u'polish', u'polite', u'politely', u'pollo', u'pomegranate', u'ponzu', u'pool', u'pools', u'poor', u'poorly', u'pop', u'popcorn', u'popped', u'pops', u'popular', u'pork', u'port', u'portion', u'portions', u'poses', u'positive', u'possible', u'possibly', u'post', u'posted', u'postino', u'pot', u'potato', u'potatoes', u'potential', u'pound', u'pounds', u'pour', u'poured', u'powder', u'power', u'ppl', u'practically', u'practice', u'praise', u'prawns', u'pre', u'prefer', u'preference', u'preferred', u'pregnant', u'premade', u'premium', u'preparation', u'prepare', u'prepared', u'presence', u'present', u'presentation', u'presented', u'press', u'pressed', u'pressure', u'pretentious', u'pretty', u'pretzel', u'previous', u'previously', u'price', u'priced', u'prices', u'pricey', u'pricier', u'pricing', u'pricy', u'pride', u'primarily', u'prime', u'print', u'printed', u'prior', u'priority', u'private', u'pro', u'probably', u'problem', u'problems', u'procedure', u'proceeded', u'process', u'produce', u'product', u'products', u'professional', u'program', u'programs', u'promise', u'promised', u'prompt', u'promptly', u'proper', u'properly', u'properties', u'property', u'props', u'pros', u'prosciutto', u'protein', u'proud', u'prove', u'provide', u'provided', u'provides', u'providing', u'provolone', u'proximity', u'ps', u'pub', u'public', u'pudding', u'pueblo', u'puffs', u'pull', u'pulled', u'pulling', u'pump', u'pumping', u'pumpkin', u'punch', u'puppies', u'puppy', u'purchase', u'purchased', u'purchasing', u'pure', u'puree', u'purple', u'purpose', u'purse', u'purses', u'push', u'pushed', u'pushy', u'put', u'puts', u'putting', u'quad', u'quail', u'quaint', u'quality', u'quantity', u'quarter', u'quarters', u'queen', u'quesadilla', u'quesadillas', u'queso', u'quest', u'question', u'questionable', u'questions', u'quiche', u'quick', u'quicker', u'quickly', u'quiet', u'quirky', u'quit', u'quite', u'quoted', u'ra', u'race', u'racing', u'rack', u'racks', u'rad', u'radio', u'radish', u'raffle', u'rail', u'railroad', u'rain', u'rainbow', u'raised', u'ramen', u'ran', u'ranch', u'random', u'rang', u'range', u'ranging', u'rare', u'rarely', u'raspberry', u'rate', u'rated', u'rates', u'rather', u'rating', u'ratings', u'ratio', u'rave', u'raved', u'raving', u'ravioli', u'raw', u'ray', u'rays', u'razor', u'rd', u'reach', u'read', u'reading', u'ready', u'real', u'reality', u'realize', u'realized', u'realizing', u'really', u'rear', u'reason', u'reasonable', u'reasonably', u'reasons', u'recall', u'receipt', u'receive', u'received', u'recent', u'recently', u'reception', u'recipe', u'recipes', u'recognize', u'recommend', u'recommendation', u'recommendations', u'recommended', u'record', u'recruits', u'red', u'reduction', u'refer', u'referred', u'refill', u'refilled', u'refills', u'refreshing', u'refried', u'refund', u'refuse', u'refused', u'regal', u'regardless', u'register', u'registers', u'registration', u'regret', u'regular', u'regularly', u'regulars', u'related', u'relationship', u'relatively', u'relax', u'relaxed', u'relaxing', u'reliable', u'relleno', u'remained', u'remains', u'remember', u'remembered', u'remembers', u'remind', u'reminded', u'reminds', u'remodel', u'remodeled', u'remodeling', u'removed', u'renovated', u'renovation', u'renovations', u'rent', u'rental', u'reopened', u'rep', u'repair', u'repairs', u'repeat', u'repeated', u'replace', u'replaced', u'replacement', u'replied', u'report', u'reputation', u'request', u'requested', u'requests', u'require', u'required', u'research', u'reservation', u'reservations', u'reserve', u'reserved', u'resident', u'residents', u'resist', u'resort', u'respect', u'respectful', u'response', u'responsible', u'rest', u'restaurant', u'restaurants', u'restroom', u'restrooms', u'result', u'results', u'retail', u'return', u'returned', u'returning', u'reuben', u'reverse', u'review', u'reviewed', u'reviewers', u'reviewing', u'reviews', u'reward', u'rewards', u'rib', u'ribeye', u'ribs', u'rice', u'rich', u'ricotta', u'rid', u'ride', u'rides', u'ridiculous', u'ridiculously', u'riding', u'right', u'ring', u'rings', u'rio', u'rip', u'ripped', u'risk', u'risotto', u'river', u'road', u'roast', u'roasted', u'robert', u'robertos', u'rock', u'rocks', u'rocky', u'rokerij', u'roll', u'rolled', u'roller', u'rolling', u'rolls', u'romantic', u'ron', u'roof', u'room', u'rooms', u'root', u'rose', u'rosemary', u'ross', u'rotation', u'rough', u'round', u'rounded', u'rounds', u'route', u'routine', u'rover', u'row', u'roys', u'rub', u'rubbed', u'rubber', u'rubios', u'rude', u'rug', u'ruin', u'ruined', u'rule', u'rules', u'rum', u'run', u'running', u'runny', u'runs', u'rush', u'rushed', u'russian', u'rv', u'ryan', u'rye', u'sad', u'sadly', u'safe', u'safely', u'safety', u'safeway', u'sahara', u'said', u'saimin', u'sake', u'salad', u'salads', u'sale', u'sales', u'salmon', u'salon', u'salons', u'salsa', u'salsas', u'salt', u'salted', u'salty', u'sam', u'sample', u'sampled', u'sampler', u'samples', u'sampling', u'sams', u'san', u'sandwich', u'sandwiches', u'sandy', u'sangria', u'sans', u'santa', u'sashimi', u'sat', u'satay', u'satisfaction', u'satisfied', u'satisfy', u'satisfying', u'saturday', u'saturdays', u'sauce', u'sauces', u'saucy', u'sauna', u'sausage', u'sausages', u'sauteed', u'save', u'saved', u'saving', u'savor', u'savory', u'saw', u'say', u'saying', u'says', u'scale', u'scallop', u'scallops', u'scared', u'scary', u'scattered', u'scene', u'schedule', u'scheduled', u'school', u'science', u'scoop', u'score', u'scottsdale', u'scramble', u'scrambled', u'scratch', u'screaming', u'screen', u'screens', u'screw', u'script', u'scrumptious', u'sea', u'seafood', u'search', u'searched', u'searching', u'seared', u'season', u'seasonal', u'seasoned', u'seasoning', u'seat', u'seated', u'seating', u'seats', u'seattle', u'seaweed', u'second', u'seconds', u'secret', u'section', u'sections', u'security', u'see', u'seeing', u'seem', u'seemed', u'seemingly', u'seems', u'seen', u'sees', u'select', u'selected', u'selection', u'selections', u'self', u'sell', u'selling', u'sells', u'send', u'sending', u'sends', u'senior', u'sense', u'sent', u'separate', u'separated', u'series', u'serious', u'seriously', u'serve', u'served', u'server', u'servers', u'serves', u'service', u'serviced', u'services', u'serving', u'servings', u'sesame', u'session', u'set', u'sets', u'setting', u'settle', u'settled', u'setup', u'seven', u'several', u'sexy', u'sf', u'sfo', u'shabby', u'shack', u'shade', u'shady', u'shake', u'shakes', u'shame', u'shampoo', u'shape', u'shaped', u'share', u'shared', u'sharing', u'shark', u'shaved', u'shea', u'sheet', u'sheets', u'shelf', u'shell', u'shells', u'shelves', u'shes', u'shift', u'shine', u'ship', u'shirt', u'shirts', u'shit', u'shitty', u'shock', u'shocked', u'shoe', u'shoes', u'shoot', u'shop', u'shopped', u'shoppers', u'shopping', u'shops', u'short', u'shorter', u'shortly', u'shorts', u'shot', u'shots', u'shoulder', u'shoulders', u'shouldnt', u'shout', u'show', u'showed', u'shower', u'showers', u'showing', u'shows', u'shredded', u'shrimp', u'shut', u'shuttle', u'shuttles', u'shy', u'siam', u'sick', u'side', u'sides', u'sigh', u'sight', u'sign', u'signage', u'signature', u'signed', u'significantly', u'signing', u'signs', u'silly', u'silver', u'silverware', u'similar', u'simple', u'simply', u'sin', u'since', u'sincerely', u'sing', u'singing', u'single', u'sink', u'sip', u'sips', u'sirloin', u'sister', u'sisters', u'sit', u'site', u'sits', u'sitting', u'situated', u'situation', u'six', u'size', u'sized', u'sizes', u'skeptical', u'sketchy', u'skewers', u'skillet', u'skills', u'skin', u'skinny', u'skins', u'skip', u'sky', u'slap', u'slaw', u'sleep', u'sleeping', u'slice', u'sliced', u'slices', u'slide', u'sliders', u'slides', u'slight', u'slightly', u'slim', u'sloppy', u'slot', u'slots', u'slow', u'slower', u'slowly', u'small', u'smaller', u'smart', u'smell', u'smelled', u'smells', u'smile', u'smiled', u'smiles', u'smiling', u'smiths', u'smoke', u'smoked', u'smokey', u'smoking', u'smoky', u'smooth', u'smoothie', u'smoothies', u'smoothly', u'smothered', u'snack', u'snacks', u'snapper', u'snob', u'snow', u'soak', u'soap', u'sober', u'soccer', u'social', u'socks', u'soda', u'sodas', u'soft', u'soggy', u'sold', u'solely', u'solid', u'solution', u'somebody', u'someday', u'somehow', u'someone', u'someones', u'something', u'sometime', u'sometimes', u'somewhat', u'somewhere', u'son', u'song', u'songs', u'sonic', u'sons', u'soo', u'soon', u'sooner', u'sooo', u'soooo', u'sooooo', u'soooooo', u'sorry', u'sort', u'sorts', u'soso', u'soul', u'sound', u'sounded', u'sounds', u'soup', u'soups', u'sour', u'sourdough', u'south', u'southern', u'southwest', u'southwestern', u'soy', u'spa', u'space', u'spaces', u'spacious', u'spaghetti', u'spam', u'spanish', u'spare', u'speak', u'speaking', u'speaks', u'special', u'specials', u'specialties', u'specialty', u'specific', u'specifically', u'spectacular', u'speed', u'speedy', u'spend', u'spending', u'spent', u'spice', u'spiced', u'spices', u'spiciness', u'spicy', u'spin', u'spinach', u'spinatos', u'spinning', u'spirit', u'spit', u'split', u'splurge', u'spoiled', u'spoke', u'spoon', u'sport', u'sporting', u'sports', u'sportsbook', u'spot', u'spotless', u'spots', u'spotted', u'spotty', u'spray', u'spread', u'spring', u'springs', u'sprinkles', u'sprint', u'sprouts', u'square', u'squash', u'squeeze', u'squeezed', u'squid', u'st', u'stack', u'stacked', u'stadium', u'stadiums', u'staff', u'staffed', u'stage', u'stained', u'stains', u'stairs', u'stairwell', u'stale', u'stalls', u'stand', u'standard', u'standards', u'standing', u'stands', u'staple', u'staples', u'star', u'starbucks', u'staring', u'stars', u'start', u'started', u'starters', u'starting', u'starts', u'starving', u'state', u'stated', u'statement', u'states', u'station', u'stations', u'status', u'stay', u'stayed', u'staying', u'stays', u'steak', u'steakhouse', u'steaks', u'steal', u'steam', u'steamed', u'steenberge', u'steep', u'steer', u'stellar', u'step', u'stepped', u'steps', u'steve', u'stew', u'stick', u'stickers', u'sticks', u'sticky', u'stiff', u'still', u'stir', u'stock', u'stocked', u'stole', u'stomach', u'stone', u'stood', u'stools', u'stop', u'stopped', u'stopping', u'stops', u'store', u'stores', u'stories', u'story', u'stout', u'straight', u'strange', u'strawberries', u'strawberry', u'stray', u'street', u'streets', u'stress', u'stretch', u'strictly', u'strike', u'string', u'strip', u'strippers', u'strips', u'strive', u'stroll', u'stromboli', u'strong', u'struck', u'structure', u'stuck', u'student', u'students', u'studio', u'studios', u'study', u'stuff', u'stuffed', u'stuffing', u'stuffy', u'stumble', u'stumbled', u'stupid', u'style', u'styles', u'stylist', u'sub', u'subpar', u'subs', u'substitute', u'subtle', u'subway', u'success', u'successful', u'succulent', u'suck', u'sucked', u'sucker', u'sucks', u'sudden', u'suddenly', u'suffer', u'sugar', u'suggest', u'suggested', u'suggestion', u'suggestions', u'suit', u'suite', u'suites', u'sum', u'summer', u'summerlin', u'sun', u'sundae', u'sunday', u'sundays', u'suns', u'sunset', u'super', u'superb', u'superior', u'supermarket', u'supper', u'supplies', u'supply', u'support', u'supporting', u'suppose', u'supposed', u'supposedly', u'sure', u'surely', u'surf', u'surprise', u'surprised', u'surprising', u'surprisingly', u'surrounded', u'surrounding', u'sushi', u'swear', u'sweat', u'sweating', u'sweet', u'sweetened', u'sweetness', u'swim', u'swimming', u'swing', u'swiss', u'switch', u'switched', u'syrup', u'system', u'ta', u'tab', u'table', u'tables', u'tacky', u'taco', u'tacos', u'tad', u'tag', u'tai', u'tail', u'take', u'taken', u'takeout', u'takes', u'taking', u'talented', u'talk', u'talked', u'talking', u'tall', u'tamale', u'tamales', u'tan', u'tangy', u'tank', u'tap', u'tapas', u'tapping', u'taps', u'taquitos', u'target', u'tart', u'tartar', u'taste', u'tastebuds', u'tasted', u'tasteless', u'tastes', u'tasting', u'tasty', u'tavern', u'tax', u'taxes', u'taxi', u'taxis', u'tea', u'teacher', u'teachers', u'team', u'tears', u'teas', u'tech', u'techs', u'tee', u'teeth', u'television', u'tell', u'telling', u'tells', u'temp', u'tempe', u'temperature', u'tempura', u'ten', u'tend', u'tender', u'tenderloin', u'tenders', u'tends', u'tennis', u'tequila', u'teriyaki', u'term', u'terminal', u'terminals', u'terms', u'terrible', u'terribly', u'terrific', u'test', u'tests', u'texas', u'text', u'texture', u'thai', u'thank', u'thanked', u'thankful', u'thankfully', u'thanks', u'thanksgiving', u'thats', u'theater', u'theaters', u'theatre', u'theme', u'themed', u'thereafter', u'therefore', u'theres', u'theyd', u'theyll', u'theyre', u'theyve', u'thick', u'thier', u'thin', u'thing', u'things', u'think', u'thinking', u'thinks', u'third', u'thirsty', u'tho', u'thorough', u'thoroughly', u'though', u'thought', u'thoughts', u'thousand', u'thousands', u'three', u'threw', u'thrilled', u'throughout', u'throw', u'throwing', u'thrown', u'thru', u'thumbs', u'thurs', u'thursday', u'thursdays', u'thus', u'ticket', u'tickets', u'tiger', u'tight', u'til', u'till', u'time', u'timely', u'timer', u'times', u'tiny', u'tip', u'tipped', u'tips', u'tiramisu', u'tire', u'tired', u'tires', u'tissue', u'tj', u'tjs', u'toast', u'toasted', u'tobiko', u'today', u'todays', u'toes', u'toffee', u'tofu', u'together', u'togo', u'toilet', u'toiletries', u'tokyo', u'told', u'tom', u'tomato', u'tomatoes', u'tomorrow', u'ton', u'tone', u'tongue', u'tonight', u'tonkatsu', u'tons', u'tony', u'took', u'tools', u'tooth', u'top', u'topnotch', u'topped', u'topping', u'toppings', u'tops', u'torn', u'toro', u'tortilla', u'tortillas', u'tostada', u'tostadas', u'total', u'totally', u'tots', u'touch', u'touched', u'tough', u'tour', u'tourist', u'tourists', u'tournament', u'toward', u'towards', u'towel', u'towels', u'tower', u'towers', u'town', u'toys', u'track', u'trade', u'trader', u'tradition', u'traditional', u'traffic', u'trail', u'train', u'trained', u'trainers', u'training', u'tram', u'transfer', u'transportation', u'trash', u'travel', u'travelers', u'traveling', u'tray', u'treadmill', u'treadmills', u'treasure', u'treat', u'treated', u'treatment', u'treats', u'tree', u'trees', u'trek', u'tremendously', u'trendy', u'trick', u'tricks', u'tried', u'tries', u'trim', u'trio', u'trip', u'triple', u'trips', u'trivia', u'tropical', u'tropicana', u'trouble', u'truck', u'true', u'truffle', u'truly', u'trust', u'truth', u'try', u'trying', u'tsa', u'tshirt', u'tshirts', u'tub', u'tube', u'tucked', u'tucson', u'tuesday', u'tuesdays', u'tummy', u'tuna', u'tune', u'tunes', u'turf', u'turkey', u'turn', u'turned', u'turning', u'turns', u'tv', u'tvs', u'twenty', u'twice', u'twist', u'two', u'type', u'types', u'typical', u'typically', u'udon', u'ugh', u'ugly', u'uh', u'ulta', u'ultimate', u'um', u'unable', u'unacceptable', u'unbelievable', u'unbelievably', u'uncle', u'uncomfortable', u'undercooked', u'understaffed', u'understand', u'understandable', u'understanding', u'understood', u'unexpected', u'unfortunately', u'unhappy', u'unhealthy', u'uni', u'unique', u'unit', u'united', u'university', u'unless', u'unlike', u'unlimited', u'unlv', u'unprofessional', u'unsure', u'unusual', u'upbeat', u'update', u'updated', u'updates', u'updating', u'upgrade', u'upgraded', u'uplifting', u'upon', u'upper', u'ups', u'upscale', u'upset', u'upside', u'upstairs', u'ur', u'urban', u'us', u'use', u'used', u'useless', u'uses', u'using', u'usual', u'usually', u'uuu', u'vacation', u'valentines', u'valet', u'valley', u'valuable', u'value', u'valued', u'van', u'vanilla', u'varieties', u'variety', u'various', u'vary', u'vast', u'veal', u'veg', u'vegan', u'vegas', u'vegetable', u'vegetables', u'vegetarian', u'veggie', u'veggies', u'vehicle', u'velvet', u'venetian', u'venture', u'ventured', u'venue', u'verde', u'vermicelli', u'version', u'vet', u'vets', u'via', u'vibe', u'victory', u'video', u'videos', u'viet', u'vietnamese', u'view', u'views', u'village', u'vinaigrette', u'vinegar', u'vintage', u'vip', u'vision', u'visit', u'visited', u'visiting', u'visitor', u'visitors', u'visits', u'viva', u'vodka', u'voice', u'volleyball', u'volume', u'vons', u'vs', u'waffle', u'waffles', u'wait', u'waited', u'waiter', u'waiters', u'waiting', u'waitress', u'waitresses', u'waits', u'waitstaff', u'wake', u'walgreens', u'walk', u'walked', u'walkers', u'walking', u'walks', u'wall', u'wallet', u'walls', u'walmart', u'walnut', u'wan', u'want', u'wanted', u'wanting', u'wants', u'warm', u'warmly', u'warn', u'warned', u'warning', u'warranty', u'wasabi', u'wash', u'washed', u'wasnt', u'waste', u'wasted', u'watch', u'watched', u'watches', u'watching', u'water', u'waterfall', u'watering', u'waters', u'watery', u'wave', u'wax', u'waxing', u'way', u'wayne', u'ways', u'weak', u'wear', u'wearing', u'weather', u'website', u'wed', u'wedding', u'wedges', u'wednesday', u'wednesdays', u'wee', u'week', u'weekday', u'weekdays', u'weekend', u'weekends', u'weekly', u'weeks', u'wei', u'weight', u'weights', u'weird', u'welcome', u'welcomed', u'welcoming', u'well', u'wendys', u'went', u'werent', u'west', u'western', u'westin', u'wet', u'weve', u'whatever', u'whats', u'wheat', u'wheel', u'whenever', u'wherever', u'whether', u'whim', u'whip', u'whipped', u'whiskey', u'white', u'whites', u'whole', u'whos', u'wide', u'wife', u'wifes', u'wifey', u'wifi', u'wild', u'willing', u'willy', u'win', u'winchells', u'wind', u'window', u'windows', u'wine', u'wines', u'wing', u'wings', u'winner', u'winners', u'winning', u'winter', u'wisconsin', u'wise', u'wish', u'wished', u'within', u'without', u'wmortadella', u'woke', u'woman', u'women', u'womens', u'won', u'wonder', u'wonderful', u'wonderfully', u'wondering', u'wont', u'wonton', u'wontons', u'wood', u'wooden', u'woot', u'word', u'words', u'work', u'worked', u'worker', u'workers', u'working', u'workout', u'works', u'world', u'worlds', u'worn', u'worried', u'worries', u'worry', u'worse', u'worship', u'worst', u'worth', u'worthy', u'would', u'wouldnt', u'wouldve', u'wow', u'wrap', u'wrapped', u'wraps', u'write', u'writing', u'written', u'wrong', u'wrote', u'wtf', u'wynn', u'ya', u'yakisoba', u'yall', u'yama', u'yard', u'yay', u'yea', u'yeah', u'year', u'years', u'yelling', u'yellow', u'yellowtail', u'yelp', u'yelper', u'yelpers', u'yelping', u'yep', u'yes', u'yesterday', u'yet', u'yikes', u'yo', u'yoga', u'yogurt', u'york', u'youd', u'youll', u'young', u'younger', u'youre', u'youve', u'yrs', u'yuck', u'yum', u'yummy', u'zero', u'zipps', u'zone', u'zoo', u'zucchini', u'zumba']\n"
       ]
      }
     ],
     "prompt_number": 17
    },
    {
     "cell_type": "code",
     "collapsed": false,
     "input": [
      "import numpy as np\n",
      "\n",
      "# Sum up the counts of each vocabulary word\n",
      "dist = np.sum(model, axis=0)\n",
      "\n",
      "# For each, print the vocabulary word and the number of times it \n",
      "# appears in the training set\n",
      "for tag, count in zip(vocab, dist):\n",
      "    print count, tag"
     ],
     "language": "python",
     "metadata": {},
     "outputs": [
      {
       "ename": "NameError",
       "evalue": "name 'model' is not defined",
       "output_type": "pyerr",
       "traceback": [
        "\u001b[1;31m---------------------------------------------------------------------------\u001b[0m\n\u001b[1;31mNameError\u001b[0m                                 Traceback (most recent call last)",
        "\u001b[1;32m<ipython-input-19-17e0b39efa5f>\u001b[0m in \u001b[0;36m<module>\u001b[1;34m()\u001b[0m\n\u001b[0;32m      2\u001b[0m \u001b[1;33m\u001b[0m\u001b[0m\n\u001b[0;32m      3\u001b[0m \u001b[1;31m# Sum up the counts of each vocabulary word\u001b[0m\u001b[1;33m\u001b[0m\u001b[1;33m\u001b[0m\u001b[0m\n\u001b[1;32m----> 4\u001b[1;33m \u001b[0mdist\u001b[0m \u001b[1;33m=\u001b[0m \u001b[0mnp\u001b[0m\u001b[1;33m.\u001b[0m\u001b[0msum\u001b[0m\u001b[1;33m(\u001b[0m\u001b[0mmodel\u001b[0m\u001b[1;33m,\u001b[0m \u001b[0maxis\u001b[0m\u001b[1;33m=\u001b[0m\u001b[1;36m0\u001b[0m\u001b[1;33m)\u001b[0m\u001b[1;33m\u001b[0m\u001b[0m\n\u001b[0m\u001b[0;32m      5\u001b[0m \u001b[1;33m\u001b[0m\u001b[0m\n\u001b[0;32m      6\u001b[0m \u001b[1;31m# For each, print the vocabulary word and the number of times it\u001b[0m\u001b[1;33m\u001b[0m\u001b[1;33m\u001b[0m\u001b[0m\n",
        "\u001b[1;31mNameError\u001b[0m: name 'model' is not defined"
       ]
      }
     ],
     "prompt_number": 19
    },
    {
     "cell_type": "code",
     "collapsed": false,
     "input": [
      "document_term_matrix_train = model_train.toarray()\n",
      "document_term_matrix_test = model_test.toarray()"
     ],
     "language": "python",
     "metadata": {},
     "outputs": [],
     "prompt_number": 20
    },
    {
     "cell_type": "code",
     "collapsed": false,
     "input": [
      "from sklearn.naive_bayes import BernoulliNB\n",
      "from sklearn.naive_bayes import GaussianNB\n",
      "from sklearn.naive_bayes import MultinomialNB\n",
      "\n",
      "Bernoulli_nb = BernoulliNB()\n",
      "Gaussian_nb = GaussianNB()\n",
      "Multinomial_nb = MultinomialNB()\n",
      "\n",
      "Bernoulli_nb.fit(document_term_matrix_train, train_y)\n",
      "Gaussian_nb.fit(document_term_matrix_train, train_y)\n",
      "Multinomial_nb.fit(document_term_matrix_train, train_y)\n",
      "\n",
      "Bernoulli_pred = Bernoulli_nb.predict(document_term_matrix_test)\n",
      "Gaussian_pred = Gaussian_nb.predict(document_term_matrix_test)\n",
      "Multinomial_pred = Multinomial_nb.predict(document_term_matrix_test)"
     ],
     "language": "python",
     "metadata": {},
     "outputs": [],
     "prompt_number": 30
    },
    {
     "cell_type": "code",
     "collapsed": false,
     "input": [
      "from sklearn.metrics import confusion_matrix\n",
      "import matplotlib.pyplot as plt\n",
      "Bernoulli_cm = confusion_matrix(test_y, Bernoulli_pred)\n",
      "Gaussian_cm = confusion_matrix(test_y, Gaussian_pred)\n",
      "Multinomial_cm = confusion_matrix(test_y, Multinomial_pred)\n",
      "plt.matshow(Bernoulli_cm)\n",
      "plt.title('Bernoulli CM')\n",
      "plt.colorbar()\n",
      "plt.ylabel('True label')\n",
      "plt.xlabel('Predicted label')\n",
      "plt.xticks(np.arange(5), np.arange(1,6))\n",
      "plt.yticks(np.arange(5), np.arange(1,6))\n",
      "plt.show()\n",
      "\n",
      "plt.matshow(Gaussian_cm)\n",
      "plt.title('Gaussian CM')\n",
      "plt.colorbar()\n",
      "plt.ylabel('True label')\n",
      "plt.xlabel('Predicted label')\n",
      "plt.xticks(np.arange(5), np.arange(1,6))\n",
      "plt.yticks(np.arange(5), np.arange(1,6))\n",
      "plt.show()\n",
      "\n",
      "plt.matshow(Multinomial_cm)\n",
      "plt.title('Multinomial CM')\n",
      "plt.colorbar()\n",
      "plt.ylabel('True label')\n",
      "plt.xlabel('Predicted label')\n",
      "plt.xticks(np.arange(5), np.arange(1,6))\n",
      "plt.yticks(np.arange(5), np.arange(1,6))\n",
      "plt.show()"
     ],
     "language": "python",
     "metadata": {},
     "outputs": [
      {
       "metadata": {},
       "output_type": "display_data",
       "png": "[encoded data removed]",
       "text": [
        "<matplotlib.figure.Figure at 0x7f3c42144e50>"
       ]
      },
      {
       "metadata": {},
       "output_type": "display_data",
       "png": "[encoded data removed]",
       "text": [
        "<matplotlib.figure.Figure at 0x7f3c41cf9e50>"
       ]
      },
      {
       "metadata": {},
       "output_type": "display_data",
       "png": "[encoded data removed]",
       "text": [
        "<matplotlib.figure.Figure at 0x7f3c42199390>"
       ]
      }
     ],
     "prompt_number": 43
    },
    {
     "cell_type": "code",
     "collapsed": false,
     "input": [],
     "language": "python",
     "metadata": {},
     "outputs": [],
     "prompt_number": 34
    },
    {
     "cell_type": "code",
     "collapsed": false,
     "input": [],
     "language": "python",
     "metadata": {},
     "outputs": []
    },
    {
     "cell_type": "code",
     "collapsed": false,
     "input": [],
     "language": "python",
     "metadata": {},
     "outputs": []
    }
   ],
   "metadata": {}
  }
 ]
}